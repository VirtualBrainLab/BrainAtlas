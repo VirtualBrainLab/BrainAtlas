{
 "cells": [
  {
   "cell_type": "code",
   "execution_count": 1,
   "metadata": {},
   "outputs": [
    {
     "data": {
      "text/html": [
       "<pre style=\"white-space:pre;overflow-x:auto;line-height:normal;font-family:Menlo,'DejaVu Sans Mono',consolas,'Courier New',monospace\">╭───────────────────────────────── Brainglobe Atlases ─────────────────────────────────╮\n",
       "│ <span style=\"color: #008000; text-decoration-color: #008000; font-weight: bold\">                                                                          Latest    </span> │\n",
       "│ <span style=\"color: #008000; text-decoration-color: #008000; font-weight: bold\"> Name                              Downloaded  Updated  Local version    version    </span> │\n",
       "│  <span style=\"font-weight: bold\">allen_human_500um</span>                     <span style=\"color: #008000; text-decoration-color: #008000\">✔</span>          <span style=\"color: #008000; text-decoration-color: #008000\">✔</span>          <span style=\"color: #c4c4c4; text-decoration-color: #c4c4c4\">0.1</span>           <span style=\"color: #c4c4c4; text-decoration-color: #c4c4c4\">0.1</span>       │\n",
       "│  <span style=\"font-weight: bold\">allen_mouse_25um</span>                      <span style=\"color: #008000; text-decoration-color: #008000\">✔</span>          <span style=\"color: #008000; text-decoration-color: #008000\">✔</span>          <span style=\"color: #c4c4c4; text-decoration-color: #c4c4c4\">1.2</span>           <span style=\"color: #c4c4c4; text-decoration-color: #c4c4c4\">1.2</span>       │\n",
       "│  <span style=\"font-weight: bold\">azba_zfish_4um</span>                        <span style=\"color: #008000; text-decoration-color: #008000\">✔</span>          <span style=\"color: #008000; text-decoration-color: #008000\">✔</span>          <span style=\"color: #c4c4c4; text-decoration-color: #c4c4c4\">1.1</span>           <span style=\"color: #c4c4c4; text-decoration-color: #c4c4c4\">1.1</span>       │\n",
       "│  <span style=\"font-weight: bold\">kim_mouse_25um</span>                        <span style=\"color: #008000; text-decoration-color: #008000\">✔</span>          <span style=\"color: #008000; text-decoration-color: #008000\">✔</span>          <span style=\"color: #c4c4c4; text-decoration-color: #c4c4c4\">1.0</span>           <span style=\"color: #c4c4c4; text-decoration-color: #c4c4c4\">1.0</span>       │\n",
       "│  <span style=\"font-weight: bold\">whs_sd_rat_39um</span>                       <span style=\"color: #008000; text-decoration-color: #008000\">✔</span>          <span style=\"color: #008000; text-decoration-color: #008000\">✔</span>          <span style=\"color: #c4c4c4; text-decoration-color: #c4c4c4\">1.1</span>           <span style=\"color: #c4c4c4; text-decoration-color: #c4c4c4\">1.1</span>       │\n",
       "│  <span style=\"font-weight: bold\">example_mouse_100um</span>                                                       <span style=\"color: #c4c4c4; text-decoration-color: #c4c4c4\">1.2</span>       │\n",
       "│  <span style=\"font-weight: bold\">allen_mouse_10um</span>                                                          <span style=\"color: #c4c4c4; text-decoration-color: #c4c4c4\">1.2</span>       │\n",
       "│  <span style=\"font-weight: bold\">allen_mouse_50um</span>                                                          <span style=\"color: #c4c4c4; text-decoration-color: #c4c4c4\">1.2</span>       │\n",
       "│  <span style=\"font-weight: bold\">allen_mouse_100um</span>                                                         <span style=\"color: #c4c4c4; text-decoration-color: #c4c4c4\">1.2</span>       │\n",
       "│  <span style=\"font-weight: bold\">mpin_zfish_1um</span>                                                            <span style=\"color: #c4c4c4; text-decoration-color: #c4c4c4\">1.0</span>       │\n",
       "│  <span style=\"font-weight: bold\">kim_mouse_10um</span>                                                            <span style=\"color: #c4c4c4; text-decoration-color: #c4c4c4\">1.0</span>       │\n",
       "│  <span style=\"font-weight: bold\">kim_mouse_50um</span>                                                            <span style=\"color: #c4c4c4; text-decoration-color: #c4c4c4\">1.0</span>       │\n",
       "│  <span style=\"font-weight: bold\">kim_mouse_100um</span>                                                           <span style=\"color: #c4c4c4; text-decoration-color: #c4c4c4\">1.0</span>       │\n",
       "│  <span style=\"font-weight: bold\">osten_mouse_10um</span>                                                          <span style=\"color: #c4c4c4; text-decoration-color: #c4c4c4\">1.1</span>       │\n",
       "│  <span style=\"font-weight: bold\">osten_mouse_25um</span>                                                          <span style=\"color: #c4c4c4; text-decoration-color: #c4c4c4\">1.1</span>       │\n",
       "│  <span style=\"font-weight: bold\">osten_mouse_50um</span>                                                          <span style=\"color: #c4c4c4; text-decoration-color: #c4c4c4\">1.1</span>       │\n",
       "│  <span style=\"font-weight: bold\">osten_mouse_100um</span>                                                         <span style=\"color: #c4c4c4; text-decoration-color: #c4c4c4\">1.1</span>       │\n",
       "│  <span style=\"font-weight: bold\">allen_cord_20um</span>                                                           <span style=\"color: #c4c4c4; text-decoration-color: #c4c4c4\">1.0</span>       │\n",
       "│  <span style=\"font-weight: bold\">perens_lsfm_mouse_20um</span>                                                    <span style=\"color: #c4c4c4; text-decoration-color: #c4c4c4\">1.0</span>       │\n",
       "│  <span style=\"font-weight: bold\">admba_3d_e11_5_mouse_16um</span>                                                 <span style=\"color: #c4c4c4; text-decoration-color: #c4c4c4\">1.0</span>       │\n",
       "│  <span style=\"font-weight: bold\">admba_3d_e13_5_mouse_16um</span>                                                 <span style=\"color: #c4c4c4; text-decoration-color: #c4c4c4\">1.0</span>       │\n",
       "│  <span style=\"font-weight: bold\">admba_3d_e15_5_mouse_16um</span>                                                 <span style=\"color: #c4c4c4; text-decoration-color: #c4c4c4\">1.0</span>       │\n",
       "│  <span style=\"font-weight: bold\">admba_3d_e18_5_mouse_16um</span>                                                 <span style=\"color: #c4c4c4; text-decoration-color: #c4c4c4\">1.0</span>       │\n",
       "│  <span style=\"font-weight: bold\">admba_3d_p4_mouse_16.752um</span>                                                <span style=\"color: #c4c4c4; text-decoration-color: #c4c4c4\">1.0</span>       │\n",
       "│  <span style=\"font-weight: bold\">admba_3d_p14_mouse_16.752um</span>                                               <span style=\"color: #c4c4c4; text-decoration-color: #c4c4c4\">1.0</span>       │\n",
       "│  <span style=\"font-weight: bold\">admba_3d_p28_mouse_16.752um</span>                                               <span style=\"color: #c4c4c4; text-decoration-color: #c4c4c4\">1.0</span>       │\n",
       "│  <span style=\"font-weight: bold\">admba_3d_p56_mouse_25um</span>                                                   <span style=\"color: #c4c4c4; text-decoration-color: #c4c4c4\">1.0</span>       │\n",
       "│  <span style=\"font-weight: bold\">princeton_mouse_20um</span>                                                      <span style=\"color: #c4c4c4; text-decoration-color: #c4c4c4\">1.0</span>       │\n",
       "│  <span style=\"font-weight: bold\">kim_dev_mouse_stp_10um</span>                                                    <span style=\"color: #c4c4c4; text-decoration-color: #c4c4c4\">1.1</span>       │\n",
       "│  <span style=\"font-weight: bold\">kim_dev_mouse_idisco_10um</span>                                                 <span style=\"color: #c4c4c4; text-decoration-color: #c4c4c4\">1.1</span>       │\n",
       "│  <span style=\"font-weight: bold\">kim_dev_mouse_mri_a0_10um</span>                                                 <span style=\"color: #c4c4c4; text-decoration-color: #c4c4c4\">1.1</span>       │\n",
       "│  <span style=\"font-weight: bold\">kim_dev_mouse_mri_adc_10um</span>                                                <span style=\"color: #c4c4c4; text-decoration-color: #c4c4c4\">1.1</span>       │\n",
       "│  <span style=\"font-weight: bold\">kim_dev_mouse_mri_dwi_10um</span>                                                <span style=\"color: #c4c4c4; text-decoration-color: #c4c4c4\">1.1</span>       │\n",
       "│  <span style=\"font-weight: bold\">kim_dev_mouse_mri_fa_10um</span>                                                 <span style=\"color: #c4c4c4; text-decoration-color: #c4c4c4\">1.1</span>       │\n",
       "│  <span style=\"font-weight: bold\">kim_dev_mouse_mri_mtr_10um</span>                                                <span style=\"color: #c4c4c4; text-decoration-color: #c4c4c4\">1.1</span>       │\n",
       "│  <span style=\"font-weight: bold\">kim_dev_mouse_mri_t2_10um</span>                                                 <span style=\"color: #c4c4c4; text-decoration-color: #c4c4c4\">1.1</span>       │\n",
       "╰──────────────────────────────────────────────────────────────────────────────────────╯\n",
       "</pre>\n"
      ],
      "text/plain": [
       "╭───────────────────────────────── Brainglobe Atlases ─────────────────────────────────╮\n",
       "│ \u001b[1;32m                                  \u001b[0m\u001b[1;32m            \u001b[0m\u001b[1;32m         \u001b[0m\u001b[1;32m               \u001b[0m\u001b[1;32m \u001b[0m\u001b[1;32m   Latest   \u001b[0m\u001b[1;32m \u001b[0m │\n",
       "│ \u001b[1;32m \u001b[0m\u001b[1;32mName                            \u001b[0m\u001b[1;32m \u001b[0m\u001b[1;32m \u001b[0m\u001b[1;32mDownloaded\u001b[0m\u001b[1;32m \u001b[0m\u001b[1;32m \u001b[0m\u001b[1;32mUpdated\u001b[0m\u001b[1;32m \u001b[0m\u001b[1;32m \u001b[0m\u001b[1;32mLocal version\u001b[0m\u001b[1;32m \u001b[0m\u001b[1;32m \u001b[0m\u001b[1;32m  version   \u001b[0m\u001b[1;32m \u001b[0m │\n",
       "│  \u001b[1mallen_human_500um\u001b[0m                     \u001b[32m✔\u001b[0m          \u001b[32m✔\u001b[0m          \u001b[38;2;196;196;196m0.1\u001b[0m           \u001b[38;2;196;196;196m0.1\u001b[0m       │\n",
       "│  \u001b[1mallen_mouse_25um\u001b[0m                      \u001b[32m✔\u001b[0m          \u001b[32m✔\u001b[0m          \u001b[38;2;196;196;196m1.2\u001b[0m           \u001b[38;2;196;196;196m1.2\u001b[0m       │\n",
       "│  \u001b[1mazba_zfish_4um\u001b[0m                        \u001b[32m✔\u001b[0m          \u001b[32m✔\u001b[0m          \u001b[38;2;196;196;196m1.1\u001b[0m           \u001b[38;2;196;196;196m1.1\u001b[0m       │\n",
       "│  \u001b[1mkim_mouse_25um\u001b[0m                        \u001b[32m✔\u001b[0m          \u001b[32m✔\u001b[0m          \u001b[38;2;196;196;196m1.0\u001b[0m           \u001b[38;2;196;196;196m1.0\u001b[0m       │\n",
       "│  \u001b[1mwhs_sd_rat_39um\u001b[0m                       \u001b[32m✔\u001b[0m          \u001b[32m✔\u001b[0m          \u001b[38;2;196;196;196m1.1\u001b[0m           \u001b[38;2;196;196;196m1.1\u001b[0m       │\n",
       "│  \u001b[1mexample_mouse_100um\u001b[0m                                                       \u001b[38;2;196;196;196m1.2\u001b[0m       │\n",
       "│  \u001b[1mallen_mouse_10um\u001b[0m                                                          \u001b[38;2;196;196;196m1.2\u001b[0m       │\n",
       "│  \u001b[1mallen_mouse_50um\u001b[0m                                                          \u001b[38;2;196;196;196m1.2\u001b[0m       │\n",
       "│  \u001b[1mallen_mouse_100um\u001b[0m                                                         \u001b[38;2;196;196;196m1.2\u001b[0m       │\n",
       "│  \u001b[1mmpin_zfish_1um\u001b[0m                                                            \u001b[38;2;196;196;196m1.0\u001b[0m       │\n",
       "│  \u001b[1mkim_mouse_10um\u001b[0m                                                            \u001b[38;2;196;196;196m1.0\u001b[0m       │\n",
       "│  \u001b[1mkim_mouse_50um\u001b[0m                                                            \u001b[38;2;196;196;196m1.0\u001b[0m       │\n",
       "│  \u001b[1mkim_mouse_100um\u001b[0m                                                           \u001b[38;2;196;196;196m1.0\u001b[0m       │\n",
       "│  \u001b[1mosten_mouse_10um\u001b[0m                                                          \u001b[38;2;196;196;196m1.1\u001b[0m       │\n",
       "│  \u001b[1mosten_mouse_25um\u001b[0m                                                          \u001b[38;2;196;196;196m1.1\u001b[0m       │\n",
       "│  \u001b[1mosten_mouse_50um\u001b[0m                                                          \u001b[38;2;196;196;196m1.1\u001b[0m       │\n",
       "│  \u001b[1mosten_mouse_100um\u001b[0m                                                         \u001b[38;2;196;196;196m1.1\u001b[0m       │\n",
       "│  \u001b[1mallen_cord_20um\u001b[0m                                                           \u001b[38;2;196;196;196m1.0\u001b[0m       │\n",
       "│  \u001b[1mperens_lsfm_mouse_20um\u001b[0m                                                    \u001b[38;2;196;196;196m1.0\u001b[0m       │\n",
       "│  \u001b[1madmba_3d_e11_5_mouse_16um\u001b[0m                                                 \u001b[38;2;196;196;196m1.0\u001b[0m       │\n",
       "│  \u001b[1madmba_3d_e13_5_mouse_16um\u001b[0m                                                 \u001b[38;2;196;196;196m1.0\u001b[0m       │\n",
       "│  \u001b[1madmba_3d_e15_5_mouse_16um\u001b[0m                                                 \u001b[38;2;196;196;196m1.0\u001b[0m       │\n",
       "│  \u001b[1madmba_3d_e18_5_mouse_16um\u001b[0m                                                 \u001b[38;2;196;196;196m1.0\u001b[0m       │\n",
       "│  \u001b[1madmba_3d_p4_mouse_16.752um\u001b[0m                                                \u001b[38;2;196;196;196m1.0\u001b[0m       │\n",
       "│  \u001b[1madmba_3d_p14_mouse_16.752um\u001b[0m                                               \u001b[38;2;196;196;196m1.0\u001b[0m       │\n",
       "│  \u001b[1madmba_3d_p28_mouse_16.752um\u001b[0m                                               \u001b[38;2;196;196;196m1.0\u001b[0m       │\n",
       "│  \u001b[1madmba_3d_p56_mouse_25um\u001b[0m                                                   \u001b[38;2;196;196;196m1.0\u001b[0m       │\n",
       "│  \u001b[1mprinceton_mouse_20um\u001b[0m                                                      \u001b[38;2;196;196;196m1.0\u001b[0m       │\n",
       "│  \u001b[1mkim_dev_mouse_stp_10um\u001b[0m                                                    \u001b[38;2;196;196;196m1.1\u001b[0m       │\n",
       "│  \u001b[1mkim_dev_mouse_idisco_10um\u001b[0m                                                 \u001b[38;2;196;196;196m1.1\u001b[0m       │\n",
       "│  \u001b[1mkim_dev_mouse_mri_a0_10um\u001b[0m                                                 \u001b[38;2;196;196;196m1.1\u001b[0m       │\n",
       "│  \u001b[1mkim_dev_mouse_mri_adc_10um\u001b[0m                                                \u001b[38;2;196;196;196m1.1\u001b[0m       │\n",
       "│  \u001b[1mkim_dev_mouse_mri_dwi_10um\u001b[0m                                                \u001b[38;2;196;196;196m1.1\u001b[0m       │\n",
       "│  \u001b[1mkim_dev_mouse_mri_fa_10um\u001b[0m                                                 \u001b[38;2;196;196;196m1.1\u001b[0m       │\n",
       "│  \u001b[1mkim_dev_mouse_mri_mtr_10um\u001b[0m                                                \u001b[38;2;196;196;196m1.1\u001b[0m       │\n",
       "│  \u001b[1mkim_dev_mouse_mri_t2_10um\u001b[0m                                                 \u001b[38;2;196;196;196m1.1\u001b[0m       │\n",
       "╰──────────────────────────────────────────────────────────────────────────────────────╯\n"
      ]
     },
     "metadata": {},
     "output_type": "display_data"
    }
   ],
   "source": [
    "from bg_atlasapi import show_atlases\n",
    "show_atlases()\n",
    "from bg_atlasapi.bg_atlas import BrainGlobeAtlas\n",
    "import numpy as np\n",
    "import os\n",
    "import json\n",
    "import pandas as pd\n",
    "from pathlib import Path\n",
    "import shutil\n",
    "import bpy, bmesh\n",
    "import os\n",
    "from mathutils import Matrix, Vector\n",
    "import bg_space as bg"
   ]
  },
  {
   "cell_type": "code",
   "execution_count": 11,
   "metadata": {},
   "outputs": [],
   "source": [
    "def intermediate_meta(atlas_name):\n",
    "    \"\"\"Build the metadata file\n",
    "\n",
    "    Parameters\n",
    "    ----------\n",
    "    atlas_name : string\n",
    "        bg-atlas name\n",
    "    \"\"\"\n",
    "    meta_file = os.path.join(PATH,atlas_name,\"meta.json\")\n",
    "\n",
    "    with open(meta_file, 'w', encoding='utf-8') as f:\n",
    "        json.dump(atlas.metadata, f, ensure_ascii=False, indent=4)\n",
    "\n",
    "def intermediate_ref_image(atlas_name):\n",
    "    \"\"\"Build the intermediate reference image. Input is the bg-atlas reference image (float32) output is a flattened .bytes file.\n",
    "\n",
    "    Parameters\n",
    "    ----------\n",
    "    atlas_name : string\n",
    "        bg-atlas name\n",
    "    \"\"\"\n",
    "    reference_file = os.path.join(PATH,atlas_name,\"reference.bytes\")\n",
    "\n",
    "    atlas = BrainGlobeAtlas(atlas_name)\n",
    "    reference = atlas.reference\n",
    "\n",
    "    reference = reference.astype(np.float32)\n",
    "    reference = reference / np.max(reference)\n",
    "\n",
    "    if not isinstance(reference[0,0,0], np.float32):\n",
    "        print(\"Warning: atlas has incorrect reference image format\")\n",
    "\n",
    "    reference.flatten().tofile(reference_file)\n",
    "\n",
    "def intermediate_annot_image(atlas_name):\n",
    "    \"\"\"Build the intermediate annotation image. Input is the bg-atlas annotation image (uint32) output is a flattened .bytes file\n",
    "\n",
    "    Parameters\n",
    "    ----------\n",
    "    atlas_name : string\n",
    "        bg-atlas name\n",
    "    \"\"\"\n",
    "    annotation_file = os.path.join(PATH,atlas_name,\"annotation.bytes\")\n",
    "\n",
    "    if os.path.exists(annotation_file):\n",
    "        return\n",
    "\n",
    "    atlas = BrainGlobeAtlas(atlas_name)\n",
    "    annotation = atlas.annotation\n",
    "\n",
    "    if not isinstance(annotation[0,0,0], np.uintc):\n",
    "        print(\"Warning: atlas has incorrect reference image format\")\n",
    "\n",
    "    annotation.flatten().tofile(annotation_file)\n",
    "\n",
    "def intermediate_mesh_centers(atlas_name):\n",
    "    \"\"\"Build the intermediate mesh center CSV files\"\"\"\n",
    "    \n",
    "    def f3f(val):\n",
    "        return f'{val:0.3f}'\n",
    "\n",
    "    mesh_center_file = os.path.join(PATH, atlas_name, \"mesh_centers.csv\")\n",
    "\n",
    "    if os.path.exists(mesh_center_file):\n",
    "        return\n",
    "\n",
    "    atlas = BrainGlobeAtlas(atlas_name)\n",
    "    res = atlas.resolution\n",
    "    root_name = \"root\"\n",
    "\n",
    "    all_structures = atlas.get_structure_descendants(root_name)\n",
    "    all_structures.insert(0,root_name)\n",
    "\n",
    "    df = pd.DataFrame(columns=[\"structure_name\",\"ap\",\"ml\",\"dv\",\"ap-lh\",\"ml-lh\",\"dv-lh\"])\n",
    "\n",
    "    shape = atlas.metadata['shape']\n",
    "\n",
    "\n",
    "    for i, structure in enumerate(all_structures):\n",
    "        mask = atlas.get_structure_mask(atlas.structures[structure][\"id\"])\n",
    "        mask_left = mask[:,:,0:int(mask.shape[2]/2)]\n",
    "        # the mask is in both hemispheres, but we actually only want to calculate one side. We'll do the left side, so to calculate right\n",
    "        # you have to do dimension_size - value on each dimension\n",
    "\n",
    "        if not np.any(mask.flatten()) or not np.any(mask_left.flatten()):\n",
    "            df.loc[i] = [structure, -1, -1, -1, -1, -1, -1]\n",
    "        else:\n",
    "            coords_full = np.mean(np.argwhere(mask), axis=0)\n",
    "            coords_left = np.mean(np.argwhere(mask_left), axis=0)\n",
    "            # coords are ap/dv/ml, so flip 1/2\n",
    "            df.loc[i] = [structure, f3f(np.float32(coords_full[0]*res[0])), f3f(np.float32(coords_full[2]*res[2])),\n",
    "                         f3f(np.float32(coords_full[1]*res[1])), f3f(np.float32(coords_left[0]*res[0])),\n",
    "                         f3f(np.float32(coords_left[2]*res[2])), f3f(np.float32(coords_left[1]*res[1]))]\n",
    "\n",
    "    df.to_csv(mesh_center_file, float_format='%0.3f', index=False)\n",
    "\n",
    "\n",
    "\n",
    "def intermediate_structures(atlas_name):\n",
    "    \"\"\"Save the structure hierarchy data (this is a symlink to the brainglobe file)\n",
    "\n",
    "    Parameters\n",
    "    ----------\n",
    "    atlas_name : string\n",
    "        bg-atlas name\n",
    "    \"\"\"\n",
    "    atlas = BrainGlobeAtlas(atlas_name)\n",
    "\n",
    "    shutil.copyfile(os.path.join(atlas.root_dir, 'structures.json'),os.path.join(PATH,atlas_name,\"structures.json\"))\n",
    "\n",
    "# Function to recalculate normals and save the object\n",
    "def modifiers_normals_smooth(obj_file, normals, smoothing):\n",
    "    # Import the .obj file\n",
    "    bpy.ops.import_scene.obj(filepath=obj_file)\n",
    "\n",
    "    # Select the imported object\n",
    "    obj = bpy.context.selected_objects[0]\n",
    "\n",
    "    # Switch to Edit Mode and recalculate normals\n",
    "    bpy.context.view_layer.objects.active = obj\n",
    "    bpy.ops.object.mode_set(mode='EDIT')\n",
    "\n",
    "    # Apply the Smooth modifier with factor=1 and repeat=10\n",
    "    if smoothing:\n",
    "        bpy.ops.object.modifier_add(type='SMOOTH')\n",
    "        smooth_modifier = obj.modifiers[-1]  # Get the last added modifier (assuming no other modifiers are added in between)\n",
    "        smooth_modifier.factor = 1\n",
    "        smooth_modifier.iterations = 5\n",
    "\n",
    "    if normals:\n",
    "        bpy.ops.mesh.normals_make_consistent(inside=False)\n",
    "\n",
    "    bpy.ops.object.mode_set(mode='OBJECT')\n",
    "\n",
    "    # Save the object with recalculated normals\n",
    "    bpy.ops.export_scene.obj(filepath=obj_file, use_selection=True, use_normals=True, use_materials=False)\n",
    "\n",
    "    # Unlink the imported object (remove it from the scene)\n",
    "    bpy.data.objects.remove(obj)\n",
    "\n",
    "def cleanup_folder(atlas_name):\n",
    "    \"\"\"Remove extra #L.obj #LL.obj and *.mat files\n",
    "\n",
    "    Parameters\n",
    "    ----------\n",
    "    atlas_name : _type_\n",
    "        _description_\n",
    "    \"\"\"\n",
    "    def is_desired_filename(filename):\n",
    "        return filename.endswith(\".obj\") and filename[0].isdigit() and not filename.endswith(\"L.obj\") and not filename.endswith(\"LL.obj\")\n",
    "\n",
    "    atlas = BrainGlobeAtlas(atlas_name)\n",
    "\n",
    "    folder = os.path.join(PATH, atlas_name,'meshes')\n",
    "\n",
    "    # Get a list of all files in the folder\n",
    "    all_files = os.listdir(folder)\n",
    "\n",
    "    # Iterate through the files and delete those that don't match the pattern\n",
    "    for filename in all_files:\n",
    "        if not is_desired_filename(filename):\n",
    "            file_to_delete = os.path.join(folder, filename)\n",
    "            os.remove(file_to_delete)\n",
    "\n",
    "def apply_blender_repairs(atlas_name, normals = True, smoothing = False):\n",
    "    \"\"\"Load all OBJ files and recalculate the normals\n",
    "\n",
    "    Parameters\n",
    "    ----------\n",
    "    atlas_name : _type_\n",
    "        _description_\n",
    "    \"\"\"\n",
    "    if not normals and not smoothing:\n",
    "        return\n",
    "\n",
    "    atlas = BrainGlobeAtlas(atlas_name)\n",
    "\n",
    "    folder = os.path.join(PATH, atlas_name, 'meshes')\n",
    "\n",
    "    # List all .obj files in the folder\n",
    "    obj_files = [f for f in os.listdir(folder) if f.endswith(\".obj\") and not f.endswith(\"L.obj\") and not f.endswith(\"LL.obj\")]\n",
    "\n",
    "    # Process each .obj file\n",
    "    for obj_file in obj_files:\n",
    "        modifiers_normals_smooth(os.path.join(folder, obj_file), normals, smoothing)\n",
    "\n",
    "\n",
    "def intermediate_mesh_files(atlas_name):\n",
    "    \"\"\"Run the Blender slicer to make the single-hemisphere files\n",
    "    \"\"\"\n",
    "    atlas = BrainGlobeAtlas(atlas_name)\n",
    "\n",
    "\n",
    "    slice_depth = - atlas.metadata['shape'][2] * atlas.metadata['resolution'][2] / 2\n",
    "\n",
    "    folder = os.path.join(PATH, atlas_name,'meshes')\n",
    "\n",
    "    files = [file for file in os.listdir(folder) if file.endswith('.obj')]\n",
    "\n",
    "    bpy.ops.object.select_all(action='SELECT')\n",
    "    bpy.ops.object.delete()\n",
    "\n",
    "    for file in files:\n",
    "        fpath = os.path.join(folder, file)\n",
    "        fpath_out = os.path.join(folder, os.path.splitext(file)[0] + 'L' + os.path.splitext(file)[1])\n",
    "\n",
    "        if os.path.exists(fpath_out):\n",
    "            continue\n",
    "\n",
    "        fpath_mtl = os.path.join(folder, os.path.splitext(file)[0] + 'L.mtl')\n",
    "\n",
    "        bpy.ops.object.select_all(action='DESELECT')\n",
    "        bpy.ops.import_scene.obj(filepath=fpath)\n",
    "        bpy.context.view_layer.objects.active = bpy.context.selected_objects[0]\n",
    "\n",
    "        #obj = bpy.context.object\n",
    "    #    bpy.ops.transform.resize(value=(0.001, 0.001, 0.001))\n",
    "\n",
    "        bpy.ops.object.editmode_toggle()\n",
    "        bpy.ops.mesh.select_all(action='SELECT')\n",
    "        bpy.ops.mesh.bisect(plane_co=(0.0,slice_depth,0.0),plane_no=(0.0,-1.0,0.0),use_fill=True,clear_outer=True)\n",
    "        bpy.ops.object.modifier_add(type='TRIANGULATE')\n",
    "        bpy.ops.object.editmode_toggle()\n",
    "\n",
    "        bpy.ops.export_scene.obj(filepath=fpath_out, use_selection=True, use_normals=True, use_materials=False)\n",
    "\n",
    "        bpy.ops.object.delete()\n",
    "\n",
    "        # trash the .mtl file\n",
    "        if os.path.exists(fpath_mtl):\n",
    "            os.remove(fpath_mtl)\n",
    "\n",
    "def apply_bg_translation(atlas_name):\n",
    "    atlas = BrainGlobeAtlas(atlas_name)\n",
    "\n",
    "    folder = os.path.join(PATH, atlas_name,'meshes')\n",
    "\n",
    "    M = Matrix(atlas.metadata[\"trasform_to_bg\"])\n",
    "\n",
    "    obj_files = [f for f in os.listdir(folder) if f.endswith('.obj')]\n",
    "\n",
    "    bpy.ops.object.select_all(action='SELECT')\n",
    "    bpy.ops.object.delete()\n",
    "\n",
    "    for obj_file in obj_files:\n",
    "\n",
    "        # Construct the full file path\n",
    "        obj_path = os.path.join(folder, obj_file)\n",
    "\n",
    "        # Import the OBJ file\n",
    "        bpy.ops.import_scene.obj(filepath=obj_path)\n",
    "\n",
    "        # Get the newly imported object\n",
    "        obj = bpy.context.selected_objects[0]\n",
    "\n",
    "        # Apply the 4x4 affine transform\n",
    "        obj.matrix_world @= M.inverted()\n",
    "\n",
    "        bpy.ops.export_scene.obj(filepath=obj_file)\n",
    "\n",
    "        bpy.ops.object.delete()\n",
    "\n",
    "def copy_mesh_files(atlas_name):\n",
    "    atlas = BrainGlobeAtlas(atlas_name)\n",
    "\n",
    "    folder = os.path.join(atlas.root_dir,'meshes')\n",
    "    local_folder = os.path.join(PATH,atlas_name,\"meshes\")\n",
    "\n",
    "    if not os.path.isdir(local_folder):\n",
    "        os.mkdir(local_folder)\n",
    "\n",
    "    # copy all the files\n",
    "    # List all .obj files in the folder\n",
    "    obj_files = [f for f in os.listdir(folder) if f.endswith(\".obj\") and not f.endswith(\"L.obj\") and not f.endswith(\"LL.obj\")]\n",
    "\n",
    "    # Process each .obj file\n",
    "    for obj_file in obj_files:\n",
    "        source = os.path.join(folder, obj_file)\n",
    "        dest = os.path.join(local_folder, obj_file)\n",
    "        shutil.copy(source, dest)\n",
    "\n",
    "    # write a text file with the location of the files\n",
    "    mesh_path_file = os.path.join(PATH,atlas_name,\"mesh_path.txt\")\n",
    "    with open(mesh_path_file, 'w') as f:\n",
    "        f.write(local_folder)\n",
    "        f.close()"
   ]
  },
  {
   "cell_type": "code",
   "execution_count": 12,
   "metadata": {},
   "outputs": [],
   "source": [
    "# get all the root mesh files for the atlases we have downloaded\n",
    "PATH = \"./data\"\n",
    "\n",
    "downloaded = [\"allen_mouse_25um\",\"whs_sd_rat_39um\"]\n",
    "apply_smoothing = [False, True]\n",
    "fix_normals = [False, True]\n",
    "atlases = []\n",
    "\n",
    "for i, atlas_name in enumerate(downloaded):\n",
    "    atlas = BrainGlobeAtlas(atlas_name, check_latest=True)\n",
    "    atlases.append(atlas)\n",
    "\n",
    "    if not os.path.isdir(os.path.join(PATH,atlas_name)):\n",
    "        os.mkdir(os.path.join(PATH,atlas_name))\n",
    "        \n",
    "    # intermediate_meta(atlas_name)\n",
    "    # intermediate_structures(atlas_name)\n",
    "    # intermediate_ref_image(atlas_name)\n",
    "    # intermediate_annot_image(atlas_name)\n",
    "    intermediate_mesh_centers(atlas_name)\n",
    "\n",
    "    # copy files\n",
    "    # copy_mesh_files(atlas_name)\n",
    "\n",
    "    # # mesh handling\n",
    "    # cleanup_folder(atlas_name)\n",
    "    # # apply_bg_translation(atlas_name)\n",
    "    # apply_blender_repairs(atlas_name, normals=fix_normals[i], smoothing=apply_smoothing[i])\n",
    "    # intermediate_mesh_files(atlas_name)"
   ]
  },
  {
   "cell_type": "code",
   "execution_count": 10,
   "metadata": {},
   "outputs": [],
   "source": [
    "import json\n",
    "import pandas as pd"
   ]
  },
  {
   "cell_type": "code",
   "execution_count": 4,
   "metadata": {},
   "outputs": [],
   "source": [
    "# replace colors in whs_sd_rat_39um with better options\n",
    "\n",
    "with open('./data/whs_sd_rat_39um/structures.json', 'r') as f: rat_structures = json.load(f)\n",
    "with open('./data/allen_mouse_25um/structures.json', 'r') as f: mouse_structures = json.load(f)"
   ]
  },
  {
   "cell_type": "code",
   "execution_count": 7,
   "metadata": {},
   "outputs": [],
   "source": [
    "mouse = {}\n",
    "for area in mouse_structures:\n",
    "    mouse[area[\"acronym\"]] = area"
   ]
  },
  {
   "cell_type": "code",
   "execution_count": 13,
   "metadata": {},
   "outputs": [],
   "source": [
    "rewrite_df = pd.read_csv('waxholm_acronyms_CCF.csv')"
   ]
  },
  {
   "cell_type": "code",
   "execution_count": 14,
   "metadata": {},
   "outputs": [
    {
     "data": {
      "text/html": [
       "<div>\n",
       "<style scoped>\n",
       "    .dataframe tbody tr th:only-of-type {\n",
       "        vertical-align: middle;\n",
       "    }\n",
       "\n",
       "    .dataframe tbody tr th {\n",
       "        vertical-align: top;\n",
       "    }\n",
       "\n",
       "    .dataframe thead th {\n",
       "        text-align: right;\n",
       "    }\n",
       "</style>\n",
       "<table border=\"1\" class=\"dataframe\">\n",
       "  <thead>\n",
       "    <tr style=\"text-align: right;\">\n",
       "      <th></th>\n",
       "      <th>id</th>\n",
       "      <th>name</th>\n",
       "      <th>acronym</th>\n",
       "      <th>ccf equivalent</th>\n",
       "    </tr>\n",
       "  </thead>\n",
       "  <tbody>\n",
       "    <tr>\n",
       "      <th>0</th>\n",
       "      <td>10000</td>\n",
       "      <td>Root</td>\n",
       "      <td>root</td>\n",
       "      <td>NaN</td>\n",
       "    </tr>\n",
       "    <tr>\n",
       "      <th>1</th>\n",
       "      <td>1000</td>\n",
       "      <td>Brain</td>\n",
       "      <td>Brain</td>\n",
       "      <td>NaN</td>\n",
       "    </tr>\n",
       "    <tr>\n",
       "      <th>2</th>\n",
       "      <td>1001</td>\n",
       "      <td>White matter</td>\n",
       "      <td>wmt</td>\n",
       "      <td>#808080</td>\n",
       "    </tr>\n",
       "    <tr>\n",
       "      <th>3</th>\n",
       "      <td>1050</td>\n",
       "      <td>Olfactory white matter</td>\n",
       "      <td>olf</td>\n",
       "      <td>#808080</td>\n",
       "    </tr>\n",
       "    <tr>\n",
       "      <th>4</th>\n",
       "      <td>180</td>\n",
       "      <td>lateral olfactory tract</td>\n",
       "      <td>lot</td>\n",
       "      <td>#808080</td>\n",
       "    </tr>\n",
       "    <tr>\n",
       "      <th>...</th>\n",
       "      <td>...</td>\n",
       "      <td>...</td>\n",
       "      <td>...</td>\n",
       "      <td>...</td>\n",
       "    </tr>\n",
       "    <tr>\n",
       "      <th>307</th>\n",
       "      <td>119</td>\n",
       "      <td>vestibular apparatus</td>\n",
       "      <td>VeA</td>\n",
       "      <td>#000000</td>\n",
       "    </tr>\n",
       "    <tr>\n",
       "      <th>308</th>\n",
       "      <td>120</td>\n",
       "      <td>cochlea</td>\n",
       "      <td>Co</td>\n",
       "      <td>#000000</td>\n",
       "    </tr>\n",
       "    <tr>\n",
       "      <th>309</th>\n",
       "      <td>121</td>\n",
       "      <td>cochlear nerve</td>\n",
       "      <td>8cn</td>\n",
       "      <td>#000000</td>\n",
       "    </tr>\n",
       "    <tr>\n",
       "      <th>310</th>\n",
       "      <td>122</td>\n",
       "      <td>vestibular nerve</td>\n",
       "      <td>8vn</td>\n",
       "      <td>#000000</td>\n",
       "    </tr>\n",
       "    <tr>\n",
       "      <th>311</th>\n",
       "      <td>162</td>\n",
       "      <td>spiral ganglion</td>\n",
       "      <td>SpG</td>\n",
       "      <td>#000000</td>\n",
       "    </tr>\n",
       "  </tbody>\n",
       "</table>\n",
       "<p>312 rows × 4 columns</p>\n",
       "</div>"
      ],
      "text/plain": [
       "        id                     name acronym ccf equivalent\n",
       "0    10000                     Root    root            NaN\n",
       "1     1000                    Brain   Brain            NaN\n",
       "2     1001             White matter     wmt        #808080\n",
       "3     1050   Olfactory white matter     olf        #808080\n",
       "4      180  lateral olfactory tract     lot        #808080\n",
       "..     ...                      ...     ...            ...\n",
       "307    119     vestibular apparatus     VeA        #000000\n",
       "308    120                  cochlea      Co        #000000\n",
       "309    121           cochlear nerve     8cn        #000000\n",
       "310    122         vestibular nerve     8vn        #000000\n",
       "311    162          spiral ganglion     SpG        #000000\n",
       "\n",
       "[312 rows x 4 columns]"
      ]
     },
     "execution_count": 14,
     "metadata": {},
     "output_type": "execute_result"
    }
   ],
   "source": [
    "rewrite_df"
   ]
  },
  {
   "cell_type": "code",
   "execution_count": 21,
   "metadata": {},
   "outputs": [
    {
     "data": {
      "text/plain": [
       "{'name': 'Root',\n",
       " 'acronym': 'root',\n",
       " 'id': 10000,\n",
       " 'structure_id_path': [10000],\n",
       " 'rgb_triplet': [0, 0, 0]}"
      ]
     },
     "execution_count": 21,
     "metadata": {},
     "output_type": "execute_result"
    }
   ],
   "source": [
    "rat_structures[0]"
   ]
  },
  {
   "cell_type": "code",
   "execution_count": 18,
   "metadata": {},
   "outputs": [],
   "source": [
    "def update_json(json_data, acronym, rgb_color):\n",
    "    for i, area in enumerate(json_data):\n",
    "        if area[\"acronym\"]==acronym:\n",
    "            area[\"rgb_triplet\"] = rgb_color\n",
    "            json_data[i] = area\n",
    "            return json_data"
   ]
  },
  {
   "cell_type": "code",
   "execution_count": 30,
   "metadata": {},
   "outputs": [],
   "source": [
    "cur_rgb_color = [255, 255, 255]\n",
    "# go through each area in the dataframe, check if we have a hex code already and apply it, otherwise keep track of the last mouse region and use that color\n",
    "for i, row in rewrite_df.iterrows():\n",
    "    ccf_equiv = row[\"ccf equivalent\"]\n",
    "\n",
    "    if ccf_equiv == \"#808080\":\n",
    "        rat_structures = update_json(rat_structures, row[\"acronym\"], [128, 128, 128])\n",
    "        continue\n",
    "    if ccf_equiv == \"#000000\":\n",
    "        rat_structures = update_json(rat_structures, row[\"acronym\"], [0, 0 , 0])\n",
    "        continue\n",
    "    \n",
    "    if pd.isna(ccf_equiv):\n",
    "        # if NaN, skip\n",
    "        rat_structures = update_json(rat_structures, row[\"acronym\"], cur_rgb_color)\n",
    "    else:    \n",
    "        # otherwise, save the current value\n",
    "        cur_rgb_color = mouse[ccf_equiv]['rgb_triplet']\n",
    "        rat_structures = update_json(rat_structures, row[\"acronym\"], cur_rgb_color)\n",
    "\n",
    "    "
   ]
  },
  {
   "cell_type": "code",
   "execution_count": 34,
   "metadata": {},
   "outputs": [],
   "source": [
    "with open('./data/whs_sd_rat_39um/structures.json', 'w') as f: json.dump(rat_structures, f)\n"
   ]
  },
  {
   "cell_type": "code",
   "execution_count": 54,
   "metadata": {},
   "outputs": [],
   "source": [
    "atlas = BrainGlobeAtlas(\"whs_sd_rat_39um\")"
   ]
  },
  {
   "cell_type": "code",
   "execution_count": 56,
   "metadata": {},
   "outputs": [
    {
     "data": {
      "text/plain": [
       "(1024, 512, 512)"
      ]
     },
     "execution_count": 56,
     "metadata": {},
     "output_type": "execute_result"
    }
   ],
   "source": [
    "atlas.annotation.shape"
   ]
  },
  {
   "cell_type": "code",
   "execution_count": 44,
   "metadata": {},
   "outputs": [],
   "source": [
    "import matplotlib.pyplot as plt"
   ]
  },
  {
   "cell_type": "code",
   "execution_count": 41,
   "metadata": {},
   "outputs": [],
   "source": [
    "atlas = BrainGlobeAtlas(\"allen_mouse_25um\")\n",
    "annotations= atlas.annotation"
   ]
  },
  {
   "cell_type": "code",
   "execution_count": 48,
   "metadata": {},
   "outputs": [],
   "source": [
    "# Load the annotation data from the mouse, reconstruct the 3D volume, and figure out if something went wrong with the data export\n",
    "\n",
    "loaded_data = np.fromfile('./data/allen_mouse_25um/annotation.bytes', dtype=np.uint32)  \n",
    "annotation_saved = loaded_data.reshape(annotations.shape)"
   ]
  },
  {
   "cell_type": "code",
   "execution_count": 45,
   "metadata": {},
   "outputs": [
    {
     "data": {
      "text/plain": [
       "<matplotlib.image.AxesImage at 0x24ad7d51750>"
      ]
     },
     "execution_count": 45,
     "metadata": {},
     "output_type": "execute_result"
    },
    {
     "data": {
      "image/png": "[encoded data removed]",
      "text/plain": [
       "<Figure size 640x480 with 1 Axes>"
      ]
     },
     "metadata": {},
     "output_type": "display_data"
    }
   ],
   "source": [
    "plt.imshow(annotations[150,:,:])"
   ]
  },
  {
   "cell_type": "code",
   "execution_count": 49,
   "metadata": {},
   "outputs": [
    {
     "data": {
      "text/plain": [
       "<matplotlib.image.AxesImage at 0x24ad7ee15d0>"
      ]
     },
     "execution_count": 49,
     "metadata": {},
     "output_type": "execute_result"
    },
    {
     "data": {
      "image/png": "[encoded data removed]",
      "text/plain": [
       "<Figure size 640x480 with 1 Axes>"
      ]
     },
     "metadata": {},
     "output_type": "display_data"
    }
   ],
   "source": [
    "plt.imshow(annotation_saved[150,:,:])"
   ]
  },
  {
   "cell_type": "code",
   "execution_count": 47,
   "metadata": {},
   "outputs": [
    {
     "data": {
      "text/plain": [
       "(528, 320, 456)"
      ]
     },
     "execution_count": 47,
     "metadata": {},
     "output_type": "execute_result"
    }
   ],
   "source": [
    "annotations.shape"
   ]
  },
  {
   "cell_type": "code",
   "execution_count": 50,
   "metadata": {},
   "outputs": [],
   "source": [
    "vol = np.zeros((528, 456, 320))\n",
    "\n",
    "idx = 0\n",
    "for ap in range(0, 528):\n",
    "    for dv in range(0, 320):\n",
    "        for ml in range(0, 456):\n",
    "            vol[ap, ml, dv] = loaded_data[idx]\n",
    "            idx += 1\n",
    "            # int idx = 0;\n",
    "            # for (int ap = 0; ap < apLength; ap++)\n",
    "            #     for (int dv = 0; dv < dvDepth; dv++)\n",
    "            #         for (int ml = 0; ml < mlWidth; ml++)\n",
    "            #         {\n",
    "            #             atlasTexture.SetPixel(ap, ml, dv, Color.Lerp(Color.black, Color.white, data[idx++]));\n",
    "            #         }"
   ]
  },
  {
   "cell_type": "code",
   "execution_count": 51,
   "metadata": {},
   "outputs": [
    {
     "data": {
      "text/plain": [
       "<matplotlib.image.AxesImage at 0x24ad7f56aa0>"
      ]
     },
     "execution_count": 51,
     "metadata": {},
     "output_type": "execute_result"
    },
    {
     "data": {
      "image/png": "[encoded data removed]",
      "text/plain": [
       "<Figure size 640x480 with 1 Axes>"
      ]
     },
     "metadata": {},
     "output_type": "display_data"
    }
   ],
   "source": [
    "plt.imshow(vol[150,:,:])"
   ]
  }
 ],
 "metadata": {
  "kernelspec": {
   "display_name": "Python 3",
   "language": "python",
   "name": "python3"
  },
  "language_info": {
   "codemirror_mode": {
    "name": "ipython",
    "version": 3
   },
   "file_extension": ".py",
   "mimetype": "text/x-python",
   "name": "python",
   "nbconvert_exporter": "python",
   "pygments_lexer": "ipython3",
   "version": "3.10.2"
  },
  "orig_nbformat": 4,
  "vscode": {
   "interpreter": {
    "hash": "369f2c481f4da34e4445cda3fffd2e751bd1c4d706f27375911949ba6bb62e1c"
   }
  }
 },
 "nbformat": 4,
 "nbformat_minor": 2
}
