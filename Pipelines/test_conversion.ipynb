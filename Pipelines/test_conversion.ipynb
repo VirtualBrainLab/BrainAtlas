{
 "cells": [
  {
   "cell_type": "code",
   "execution_count": 3,
   "metadata": {},
   "outputs": [
    {
     "data": {
      "text/html": [
       "<pre style=\"white-space:pre;overflow-x:auto;line-height:normal;font-family:Menlo,'DejaVu Sans Mono',consolas,'Courier New',monospace\">╭───────────────────────────────── Brainglobe Atlases ─────────────────────────────────╮\n",
       "│ <span style=\"color: #008000; text-decoration-color: #008000; font-weight: bold\">                                                                          Latest    </span> │\n",
       "│ <span style=\"color: #008000; text-decoration-color: #008000; font-weight: bold\"> Name                              Downloaded  Updated  Local version    version    </span> │\n",
       "│  <span style=\"font-weight: bold\">allen_mouse_25um</span>                      <span style=\"color: #008000; text-decoration-color: #008000\">✔</span>          <span style=\"color: #008000; text-decoration-color: #008000\">✔</span>          <span style=\"color: #c4c4c4; text-decoration-color: #c4c4c4\">1.2</span>           <span style=\"color: #c4c4c4; text-decoration-color: #c4c4c4\">1.2</span>       │\n",
       "│  <span style=\"font-weight: bold\">example_mouse_100um</span>                                                       <span style=\"color: #c4c4c4; text-decoration-color: #c4c4c4\">1.2</span>       │\n",
       "│  <span style=\"font-weight: bold\">allen_mouse_10um</span>                                                          <span style=\"color: #c4c4c4; text-decoration-color: #c4c4c4\">1.2</span>       │\n",
       "│  <span style=\"font-weight: bold\">allen_mouse_50um</span>                                                          <span style=\"color: #c4c4c4; text-decoration-color: #c4c4c4\">1.2</span>       │\n",
       "│  <span style=\"font-weight: bold\">allen_mouse_100um</span>                                                         <span style=\"color: #c4c4c4; text-decoration-color: #c4c4c4\">1.2</span>       │\n",
       "│  <span style=\"font-weight: bold\">mpin_zfish_1um</span>                                                            <span style=\"color: #c4c4c4; text-decoration-color: #c4c4c4\">1.0</span>       │\n",
       "│  <span style=\"font-weight: bold\">allen_human_500um</span>                                                         <span style=\"color: #c4c4c4; text-decoration-color: #c4c4c4\">0.1</span>       │\n",
       "│  <span style=\"font-weight: bold\">kim_mouse_10um</span>                                                            <span style=\"color: #c4c4c4; text-decoration-color: #c4c4c4\">1.0</span>       │\n",
       "│  <span style=\"font-weight: bold\">kim_mouse_25um</span>                                                            <span style=\"color: #c4c4c4; text-decoration-color: #c4c4c4\">1.0</span>       │\n",
       "│  <span style=\"font-weight: bold\">kim_mouse_50um</span>                                                            <span style=\"color: #c4c4c4; text-decoration-color: #c4c4c4\">1.0</span>       │\n",
       "│  <span style=\"font-weight: bold\">kim_mouse_100um</span>                                                           <span style=\"color: #c4c4c4; text-decoration-color: #c4c4c4\">1.0</span>       │\n",
       "│  <span style=\"font-weight: bold\">osten_mouse_10um</span>                                                          <span style=\"color: #c4c4c4; text-decoration-color: #c4c4c4\">1.1</span>       │\n",
       "│  <span style=\"font-weight: bold\">osten_mouse_25um</span>                                                          <span style=\"color: #c4c4c4; text-decoration-color: #c4c4c4\">1.1</span>       │\n",
       "│  <span style=\"font-weight: bold\">osten_mouse_50um</span>                                                          <span style=\"color: #c4c4c4; text-decoration-color: #c4c4c4\">1.1</span>       │\n",
       "│  <span style=\"font-weight: bold\">osten_mouse_100um</span>                                                         <span style=\"color: #c4c4c4; text-decoration-color: #c4c4c4\">1.1</span>       │\n",
       "│  <span style=\"font-weight: bold\">allen_cord_20um</span>                                                           <span style=\"color: #c4c4c4; text-decoration-color: #c4c4c4\">1.0</span>       │\n",
       "│  <span style=\"font-weight: bold\">azba_zfish_4um</span>                                                            <span style=\"color: #c4c4c4; text-decoration-color: #c4c4c4\">1.1</span>       │\n",
       "│  <span style=\"font-weight: bold\">whs_sd_rat_39um</span>                                                           <span style=\"color: #c4c4c4; text-decoration-color: #c4c4c4\">1.0</span>       │\n",
       "│  <span style=\"font-weight: bold\">perens_lsfm_mouse_20um</span>                                                    <span style=\"color: #c4c4c4; text-decoration-color: #c4c4c4\">1.0</span>       │\n",
       "│  <span style=\"font-weight: bold\">admba_3d_e11_5_mouse_16um</span>                                                 <span style=\"color: #c4c4c4; text-decoration-color: #c4c4c4\">1.0</span>       │\n",
       "│  <span style=\"font-weight: bold\">admba_3d_e13_5_mouse_16um</span>                                                 <span style=\"color: #c4c4c4; text-decoration-color: #c4c4c4\">1.0</span>       │\n",
       "│  <span style=\"font-weight: bold\">admba_3d_e15_5_mouse_16um</span>                                                 <span style=\"color: #c4c4c4; text-decoration-color: #c4c4c4\">1.0</span>       │\n",
       "│  <span style=\"font-weight: bold\">admba_3d_e18_5_mouse_16um</span>                                                 <span style=\"color: #c4c4c4; text-decoration-color: #c4c4c4\">1.0</span>       │\n",
       "│  <span style=\"font-weight: bold\">admba_3d_p4_mouse_16.752um</span>                                                <span style=\"color: #c4c4c4; text-decoration-color: #c4c4c4\">1.0</span>       │\n",
       "│  <span style=\"font-weight: bold\">admba_3d_p14_mouse_16.752um</span>                                               <span style=\"color: #c4c4c4; text-decoration-color: #c4c4c4\">1.0</span>       │\n",
       "│  <span style=\"font-weight: bold\">admba_3d_p28_mouse_16.752um</span>                                               <span style=\"color: #c4c4c4; text-decoration-color: #c4c4c4\">1.0</span>       │\n",
       "│  <span style=\"font-weight: bold\">admba_3d_p56_mouse_25um</span>                                                   <span style=\"color: #c4c4c4; text-decoration-color: #c4c4c4\">1.0</span>       │\n",
       "│  <span style=\"font-weight: bold\">princeton_mouse_20um</span>                                                      <span style=\"color: #c4c4c4; text-decoration-color: #c4c4c4\">1.0</span>       │\n",
       "│  <span style=\"font-weight: bold\">kim_dev_mouse_stp_10um</span>                                                    <span style=\"color: #c4c4c4; text-decoration-color: #c4c4c4\">1.1</span>       │\n",
       "│  <span style=\"font-weight: bold\">kim_dev_mouse_idisco_10um</span>                                                 <span style=\"color: #c4c4c4; text-decoration-color: #c4c4c4\">1.1</span>       │\n",
       "│  <span style=\"font-weight: bold\">kim_dev_mouse_mri_a0_10um</span>                                                 <span style=\"color: #c4c4c4; text-decoration-color: #c4c4c4\">1.1</span>       │\n",
       "│  <span style=\"font-weight: bold\">kim_dev_mouse_mri_adc_10um</span>                                                <span style=\"color: #c4c4c4; text-decoration-color: #c4c4c4\">1.1</span>       │\n",
       "│  <span style=\"font-weight: bold\">kim_dev_mouse_mri_dwi_10um</span>                                                <span style=\"color: #c4c4c4; text-decoration-color: #c4c4c4\">1.1</span>       │\n",
       "│  <span style=\"font-weight: bold\">kim_dev_mouse_mri_fa_10um</span>                                                 <span style=\"color: #c4c4c4; text-decoration-color: #c4c4c4\">1.1</span>       │\n",
       "│  <span style=\"font-weight: bold\">kim_dev_mouse_mri_mtr_10um</span>                                                <span style=\"color: #c4c4c4; text-decoration-color: #c4c4c4\">1.1</span>       │\n",
       "│  <span style=\"font-weight: bold\">kim_dev_mouse_mri_t2_10um</span>                                                 <span style=\"color: #c4c4c4; text-decoration-color: #c4c4c4\">1.1</span>       │\n",
       "╰──────────────────────────────────────────────────────────────────────────────────────╯\n",
       "</pre>\n"
      ],
      "text/plain": [
       "╭───────────────────────────────── Brainglobe Atlases ─────────────────────────────────╮\n",
       "│ \u001b[1;32m                                  \u001b[0m\u001b[1;32m            \u001b[0m\u001b[1;32m         \u001b[0m\u001b[1;32m               \u001b[0m\u001b[1;32m \u001b[0m\u001b[1;32m   Latest   \u001b[0m\u001b[1;32m \u001b[0m │\n",
       "│ \u001b[1;32m \u001b[0m\u001b[1;32mName                            \u001b[0m\u001b[1;32m \u001b[0m\u001b[1;32m \u001b[0m\u001b[1;32mDownloaded\u001b[0m\u001b[1;32m \u001b[0m\u001b[1;32m \u001b[0m\u001b[1;32mUpdated\u001b[0m\u001b[1;32m \u001b[0m\u001b[1;32m \u001b[0m\u001b[1;32mLocal version\u001b[0m\u001b[1;32m \u001b[0m\u001b[1;32m \u001b[0m\u001b[1;32m  version   \u001b[0m\u001b[1;32m \u001b[0m │\n",
       "│  \u001b[1mallen_mouse_25um\u001b[0m                      \u001b[32m✔\u001b[0m          \u001b[32m✔\u001b[0m          \u001b[38;2;196;196;196m1.2\u001b[0m           \u001b[38;2;196;196;196m1.2\u001b[0m       │\n",
       "│  \u001b[1mexample_mouse_100um\u001b[0m                                                       \u001b[38;2;196;196;196m1.2\u001b[0m       │\n",
       "│  \u001b[1mallen_mouse_10um\u001b[0m                                                          \u001b[38;2;196;196;196m1.2\u001b[0m       │\n",
       "│  \u001b[1mallen_mouse_50um\u001b[0m                                                          \u001b[38;2;196;196;196m1.2\u001b[0m       │\n",
       "│  \u001b[1mallen_mouse_100um\u001b[0m                                                         \u001b[38;2;196;196;196m1.2\u001b[0m       │\n",
       "│  \u001b[1mmpin_zfish_1um\u001b[0m                                                            \u001b[38;2;196;196;196m1.0\u001b[0m       │\n",
       "│  \u001b[1mallen_human_500um\u001b[0m                                                         \u001b[38;2;196;196;196m0.1\u001b[0m       │\n",
       "│  \u001b[1mkim_mouse_10um\u001b[0m                                                            \u001b[38;2;196;196;196m1.0\u001b[0m       │\n",
       "│  \u001b[1mkim_mouse_25um\u001b[0m                                                            \u001b[38;2;196;196;196m1.0\u001b[0m       │\n",
       "│  \u001b[1mkim_mouse_50um\u001b[0m                                                            \u001b[38;2;196;196;196m1.0\u001b[0m       │\n",
       "│  \u001b[1mkim_mouse_100um\u001b[0m                                                           \u001b[38;2;196;196;196m1.0\u001b[0m       │\n",
       "│  \u001b[1mosten_mouse_10um\u001b[0m                                                          \u001b[38;2;196;196;196m1.1\u001b[0m       │\n",
       "│  \u001b[1mosten_mouse_25um\u001b[0m                                                          \u001b[38;2;196;196;196m1.1\u001b[0m       │\n",
       "│  \u001b[1mosten_mouse_50um\u001b[0m                                                          \u001b[38;2;196;196;196m1.1\u001b[0m       │\n",
       "│  \u001b[1mosten_mouse_100um\u001b[0m                                                         \u001b[38;2;196;196;196m1.1\u001b[0m       │\n",
       "│  \u001b[1mallen_cord_20um\u001b[0m                                                           \u001b[38;2;196;196;196m1.0\u001b[0m       │\n",
       "│  \u001b[1mazba_zfish_4um\u001b[0m                                                            \u001b[38;2;196;196;196m1.1\u001b[0m       │\n",
       "│  \u001b[1mwhs_sd_rat_39um\u001b[0m                                                           \u001b[38;2;196;196;196m1.0\u001b[0m       │\n",
       "│  \u001b[1mperens_lsfm_mouse_20um\u001b[0m                                                    \u001b[38;2;196;196;196m1.0\u001b[0m       │\n",
       "│  \u001b[1madmba_3d_e11_5_mouse_16um\u001b[0m                                                 \u001b[38;2;196;196;196m1.0\u001b[0m       │\n",
       "│  \u001b[1madmba_3d_e13_5_mouse_16um\u001b[0m                                                 \u001b[38;2;196;196;196m1.0\u001b[0m       │\n",
       "│  \u001b[1madmba_3d_e15_5_mouse_16um\u001b[0m                                                 \u001b[38;2;196;196;196m1.0\u001b[0m       │\n",
       "│  \u001b[1madmba_3d_e18_5_mouse_16um\u001b[0m                                                 \u001b[38;2;196;196;196m1.0\u001b[0m       │\n",
       "│  \u001b[1madmba_3d_p4_mouse_16.752um\u001b[0m                                                \u001b[38;2;196;196;196m1.0\u001b[0m       │\n",
       "│  \u001b[1madmba_3d_p14_mouse_16.752um\u001b[0m                                               \u001b[38;2;196;196;196m1.0\u001b[0m       │\n",
       "│  \u001b[1madmba_3d_p28_mouse_16.752um\u001b[0m                                               \u001b[38;2;196;196;196m1.0\u001b[0m       │\n",
       "│  \u001b[1madmba_3d_p56_mouse_25um\u001b[0m                                                   \u001b[38;2;196;196;196m1.0\u001b[0m       │\n",
       "│  \u001b[1mprinceton_mouse_20um\u001b[0m                                                      \u001b[38;2;196;196;196m1.0\u001b[0m       │\n",
       "│  \u001b[1mkim_dev_mouse_stp_10um\u001b[0m                                                    \u001b[38;2;196;196;196m1.1\u001b[0m       │\n",
       "│  \u001b[1mkim_dev_mouse_idisco_10um\u001b[0m                                                 \u001b[38;2;196;196;196m1.1\u001b[0m       │\n",
       "│  \u001b[1mkim_dev_mouse_mri_a0_10um\u001b[0m                                                 \u001b[38;2;196;196;196m1.1\u001b[0m       │\n",
       "│  \u001b[1mkim_dev_mouse_mri_adc_10um\u001b[0m                                                \u001b[38;2;196;196;196m1.1\u001b[0m       │\n",
       "│  \u001b[1mkim_dev_mouse_mri_dwi_10um\u001b[0m                                                \u001b[38;2;196;196;196m1.1\u001b[0m       │\n",
       "│  \u001b[1mkim_dev_mouse_mri_fa_10um\u001b[0m                                                 \u001b[38;2;196;196;196m1.1\u001b[0m       │\n",
       "│  \u001b[1mkim_dev_mouse_mri_mtr_10um\u001b[0m                                                \u001b[38;2;196;196;196m1.1\u001b[0m       │\n",
       "│  \u001b[1mkim_dev_mouse_mri_t2_10um\u001b[0m                                                 \u001b[38;2;196;196;196m1.1\u001b[0m       │\n",
       "╰──────────────────────────────────────────────────────────────────────────────────────╯\n"
      ]
     },
     "metadata": {},
     "output_type": "display_data"
    }
   ],
   "source": [
    "from bg_atlasapi import show_atlases\n",
    "show_atlases()\n",
    "from bg_atlasapi.bg_atlas import BrainGlobeAtlas\n"
   ]
  },
  {
   "cell_type": "code",
   "execution_count": 19,
   "metadata": {},
   "outputs": [
    {
     "data": {
      "text/html": [
       "<pre style=\"white-space:pre;overflow-x:auto;line-height:normal;font-family:Menlo,'DejaVu Sans Mono',consolas,'Courier New',monospace\"><span style=\"color: #ff00d7; text-decoration-color: #ff00d7\">Bgatlas_api: osten_mouse_100um not found locally. Downloading...</span>\n",
       "</pre>\n"
      ],
      "text/plain": [
       "\u001b[38;5;200mBgatlas_api: osten_mouse_100um not found locally. Downloading\u001b[0m\u001b[38;5;200m...\u001b[0m\n"
      ]
     },
     "metadata": {},
     "output_type": "display_data"
    },
    {
     "data": {
      "application/vnd.jupyter.widget-view+json": {
       "model_id": "0433334738c34ff28ecf5b0bf896f1d8",
       "version_major": 2,
       "version_minor": 0
      },
      "text/plain": [
       "Output()"
      ]
     },
     "metadata": {},
     "output_type": "display_data"
    },
    {
     "data": {
      "text/html": [
       "<pre style=\"white-space:pre;overflow-x:auto;line-height:normal;font-family:Menlo,'DejaVu Sans Mono',consolas,'Courier New',monospace\"></pre>\n"
      ],
      "text/plain": []
     },
     "metadata": {},
     "output_type": "display_data"
    },
    {
     "data": {
      "text/html": [
       "<pre style=\"white-space:pre;overflow-x:auto;line-height:normal;font-family:Menlo,'DejaVu Sans Mono',consolas,'Courier New',monospace\">\n",
       "</pre>\n"
      ],
      "text/plain": [
       "\n"
      ]
     },
     "metadata": {},
     "output_type": "display_data"
    }
   ],
   "source": [
    "atlas = BrainGlobeAtlas(\"osten_mouse_100um\")"
   ]
  },
  {
   "cell_type": "code",
   "execution_count": 20,
   "metadata": {},
   "outputs": [
    {
     "name": "stdout",
     "output_type": "stream",
     "text": [
      "(132, 80, 114)\n"
     ]
    }
   ],
   "source": [
    "reference_image = atlas.reference\n",
    "print(reference_image.shape)"
   ]
  },
  {
   "cell_type": "code",
   "execution_count": 21,
   "metadata": {},
   "outputs": [],
   "source": [
    "import matplotlib.pyplot as plt"
   ]
  },
  {
   "cell_type": "code",
   "execution_count": 23,
   "metadata": {},
   "outputs": [
    {
     "data": {
      "text/plain": [
       "<matplotlib.image.AxesImage at 0x1c25e4fd250>"
      ]
     },
     "execution_count": 23,
     "metadata": {},
     "output_type": "execute_result"
    },
    {
     "data": {
      "image/png": "[encoded data removed]",
      "text/plain": [
       "<Figure size 432x288 with 1 Axes>"
      ]
     },
     "metadata": {
      "needs_background": "light"
     },
     "output_type": "display_data"
    }
   ],
   "source": [
    "plt.imshow(reference_image[100,:,:])"
   ]
  },
  {
   "cell_type": "code",
   "execution_count": 24,
   "metadata": {},
   "outputs": [
    {
     "data": {
      "text/plain": [
       "array([[0, 0, 0, ..., 0, 0, 0],\n",
       "       [0, 1, 1, ..., 1, 1, 1],\n",
       "       [0, 1, 1, ..., 1, 1, 1],\n",
       "       ...,\n",
       "       [0, 1, 1, ..., 1, 1, 1],\n",
       "       [0, 1, 1, ..., 1, 1, 1],\n",
       "       [0, 1, 1, ..., 1, 1, 1]], dtype=uint16)"
      ]
     },
     "execution_count": 24,
     "metadata": {},
     "output_type": "execute_result"
    }
   ],
   "source": [
    "reference_image[100,:,:]"
   ]
  },
  {
   "cell_type": "code",
   "execution_count": null,
   "metadata": {},
   "outputs": [],
   "source": [
    "import numpy as np"
   ]
  },
  {
   "cell_type": "code",
   "execution_count": null,
   "metadata": {},
   "outputs": [
    {
     "name": "stdout",
     "output_type": "stream",
     "text": [
      "(1024, 512, 512)\n"
     ]
    }
   ],
   "source": [
    "annotation_image = atlas.annotation\n",
    "print(annotation_image.shape)"
   ]
  },
  {
   "cell_type": "code",
   "execution_count": 25,
   "metadata": {},
   "outputs": [
    {
     "data": {
      "text/plain": [
       "<matplotlib.image.AxesImage at 0x1c25eeb0df0>"
      ]
     },
     "execution_count": 25,
     "metadata": {},
     "output_type": "execute_result"
    },
    {
     "data": {
      "image/png": "[encoded data removed]",
      "text/plain": [
       "<Figure size 432x288 with 1 Axes>"
      ]
     },
     "metadata": {
      "needs_background": "light"
     },
     "output_type": "display_data"
    }
   ],
   "source": [
    "plt.imshow(annotation_image[100,:,:])"
   ]
  },
  {
   "cell_type": "code",
   "execution_count": 26,
   "metadata": {},
   "outputs": [
    {
     "data": {
      "text/plain": [
       "223"
      ]
     },
     "execution_count": 26,
     "metadata": {},
     "output_type": "execute_result"
    }
   ],
   "source": [
    "len(np.unique(annotation_image.flatten()))"
   ]
  },
  {
   "cell_type": "code",
   "execution_count": 27,
   "metadata": {},
   "outputs": [
    {
     "data": {
      "text/plain": [
       "array([[0, 0, 0, ..., 0, 0, 0],\n",
       "       [0, 0, 0, ..., 0, 0, 0],\n",
       "       [0, 0, 0, ..., 0, 0, 0],\n",
       "       ...,\n",
       "       [0, 0, 0, ..., 0, 0, 0],\n",
       "       [0, 0, 0, ..., 0, 0, 0],\n",
       "       [0, 0, 0, ..., 0, 0, 0]], dtype=uint32)"
      ]
     },
     "execution_count": 27,
     "metadata": {},
     "output_type": "execute_result"
    }
   ],
   "source": [
    "annotation_image[100,:,:]"
   ]
  },
  {
   "cell_type": "code",
   "execution_count": 28,
   "metadata": {},
   "outputs": [
    {
     "data": {
      "text/html": [
       "<div>\n",
       "<style scoped>\n",
       "    .dataframe tbody tr th:only-of-type {\n",
       "        vertical-align: middle;\n",
       "    }\n",
       "\n",
       "    .dataframe tbody tr th {\n",
       "        vertical-align: top;\n",
       "    }\n",
       "\n",
       "    .dataframe thead th {\n",
       "        text-align: right;\n",
       "    }\n",
       "</style>\n",
       "<table border=\"1\" class=\"dataframe\">\n",
       "  <thead>\n",
       "    <tr style=\"text-align: right;\">\n",
       "      <th></th>\n",
       "      <th>acronym</th>\n",
       "      <th>id</th>\n",
       "      <th>name</th>\n",
       "    </tr>\n",
       "  </thead>\n",
       "  <tbody>\n",
       "    <tr>\n",
       "      <th>0</th>\n",
       "      <td>root</td>\n",
       "      <td>997</td>\n",
       "      <td>root</td>\n",
       "    </tr>\n",
       "    <tr>\n",
       "      <th>1</th>\n",
       "      <td>grey</td>\n",
       "      <td>8</td>\n",
       "      <td>Basic cell groups and regions</td>\n",
       "    </tr>\n",
       "    <tr>\n",
       "      <th>2</th>\n",
       "      <td>CH</td>\n",
       "      <td>567</td>\n",
       "      <td>Cerebrum</td>\n",
       "    </tr>\n",
       "    <tr>\n",
       "      <th>3</th>\n",
       "      <td>CTX</td>\n",
       "      <td>688</td>\n",
       "      <td>Cerebral cortex</td>\n",
       "    </tr>\n",
       "    <tr>\n",
       "      <th>4</th>\n",
       "      <td>CTXpl</td>\n",
       "      <td>695</td>\n",
       "      <td>Cortical plate</td>\n",
       "    </tr>\n",
       "    <tr>\n",
       "      <th>5</th>\n",
       "      <td>Isocortex</td>\n",
       "      <td>315</td>\n",
       "      <td>Isocortex</td>\n",
       "    </tr>\n",
       "    <tr>\n",
       "      <th>6</th>\n",
       "      <td>FRP</td>\n",
       "      <td>184</td>\n",
       "      <td>Frontal pole, cerebral cortex</td>\n",
       "    </tr>\n",
       "    <tr>\n",
       "      <th>7</th>\n",
       "      <td>FRP1</td>\n",
       "      <td>68</td>\n",
       "      <td>Frontal pole, layer 1</td>\n",
       "    </tr>\n",
       "  </tbody>\n",
       "</table>\n",
       "</div>"
      ],
      "text/plain": [
       "     acronym   id                           name\n",
       "0       root  997                           root\n",
       "1       grey    8  Basic cell groups and regions\n",
       "2         CH  567                       Cerebrum\n",
       "3        CTX  688                Cerebral cortex\n",
       "4      CTXpl  695                 Cortical plate\n",
       "5  Isocortex  315                      Isocortex\n",
       "6        FRP  184  Frontal pole, cerebral cortex\n",
       "7       FRP1   68          Frontal pole, layer 1"
      ]
     },
     "execution_count": 28,
     "metadata": {},
     "output_type": "execute_result"
    }
   ],
   "source": [
    "atlas.lookup_df.head(8)"
   ]
  },
  {
   "cell_type": "code",
   "execution_count": 30,
   "metadata": {},
   "outputs": [
    {
     "name": "stdout",
     "output_type": "stream",
     "text": [
      "{'acronym': 'CTX',\n",
      " 'id': 688,\n",
      " 'mesh': None,\n",
      " 'mesh_filename': WindowsPath('C:/Users/Dan/.brainglobe/osten_mouse_100um_v1.1/meshes/688.obj'),\n",
      " 'name': 'Cerebral cortex',\n",
      " 'rgb_triplet': [255, 255, 255],\n",
      " 'structure_id_path': [997, 8, 567, 688]}\n"
     ]
    }
   ],
   "source": [
    "from pprint import pprint\n",
    "CTX = atlas.structures[\"CTX\"]\n",
    "pprint(CTX)"
   ]
  },
  {
   "cell_type": "code",
   "execution_count": 31,
   "metadata": {},
   "outputs": [
    {
     "data": {
      "text/plain": [
       "{'name': 'osten_mouse',\n",
       " 'citation': 'Kim et al. 2015, https://doi.org/10.1016/j.celrep.2014.12.014',\n",
       " 'atlas_link': 'https://doi.org/10.1016/j.celrep.2014.12.014',\n",
       " 'species': 'Mus musculus',\n",
       " 'symmetric': True,\n",
       " 'resolution': [100.0, 100.0, 100.0],\n",
       " 'orientation': 'asr',\n",
       " 'version': '1.1',\n",
       " 'shape': [132, 80, 114],\n",
       " 'trasform_to_bg': [[1.0, 0.0, 0.0, 0.0],\n",
       "  [0.0, 1.0, 0.0, 0.0],\n",
       "  [0.0, 0.0, 1.0, 0.0],\n",
       "  [0.0, 0.0, 0.0, 1.0]],\n",
       " 'additional_references': []}"
      ]
     },
     "execution_count": 31,
     "metadata": {},
     "output_type": "execute_result"
    }
   ],
   "source": [
    "atlas.metadata"
   ]
  },
  {
   "cell_type": "code",
   "execution_count": 34,
   "metadata": {},
   "outputs": [
    {
     "data": {
      "text/plain": [
       "2.388061258337339e-13"
      ]
     },
     "execution_count": 34,
     "metadata": {},
     "output_type": "execute_result"
    }
   ],
   "source": [
    "3900 * np.cos(np.deg2rad(90))"
   ]
  }
 ],
 "metadata": {
  "kernelspec": {
   "display_name": "Python 3",
   "language": "python",
   "name": "python3"
  },
  "language_info": {
   "codemirror_mode": {
    "name": "ipython",
    "version": 3
   },
   "file_extension": ".py",
   "mimetype": "text/x-python",
   "name": "python",
   "nbconvert_exporter": "python",
   "pygments_lexer": "ipython3",
   "version": "3.9.0"
  },
  "orig_nbformat": 4,
  "vscode": {
   "interpreter": {
    "hash": "369f2c481f4da34e4445cda3fffd2e751bd1c4d706f27375911949ba6bb62e1c"
   }
  }
 },
 "nbformat": 4,
 "nbformat_minor": 2
}
