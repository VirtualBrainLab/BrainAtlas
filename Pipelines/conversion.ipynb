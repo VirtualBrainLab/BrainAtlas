{
 "cells": [
  {
   "cell_type": "code",
   "execution_count": 1,
   "metadata": {},
   "outputs": [
    {
     "data": {
      "text/html": [
       "<pre style=\"white-space:pre;overflow-x:auto;line-height:normal;font-family:Menlo,'DejaVu Sans Mono',consolas,'Courier New',monospace\">╭───────────────────────────────── Brainglobe Atlases ─────────────────────────────────╮\n",
       "│ <span style=\"color: #008000; text-decoration-color: #008000; font-weight: bold\">                                                                          Latest    </span> │\n",
       "│ <span style=\"color: #008000; text-decoration-color: #008000; font-weight: bold\"> Name                              Downloaded  Updated  Local version    version    </span> │\n",
       "│  <span style=\"font-weight: bold\">allen_mouse_100um</span>                     <span style=\"color: #008000; text-decoration-color: #008000\">✔</span>          <span style=\"color: #008000; text-decoration-color: #008000\">✔</span>          <span style=\"color: #c4c4c4; text-decoration-color: #c4c4c4\">1.2</span>           <span style=\"color: #c4c4c4; text-decoration-color: #c4c4c4\">1.2</span>       │\n",
       "│  <span style=\"font-weight: bold\">allen_mouse_10um</span>                      <span style=\"color: #008000; text-decoration-color: #008000\">✔</span>          <span style=\"color: #008000; text-decoration-color: #008000\">✔</span>          <span style=\"color: #c4c4c4; text-decoration-color: #c4c4c4\">1.2</span>           <span style=\"color: #c4c4c4; text-decoration-color: #c4c4c4\">1.2</span>       │\n",
       "│  <span style=\"font-weight: bold\">allen_mouse_25um</span>                      <span style=\"color: #008000; text-decoration-color: #008000\">✔</span>          <span style=\"color: #008000; text-decoration-color: #008000\">✔</span>          <span style=\"color: #c4c4c4; text-decoration-color: #c4c4c4\">1.2</span>           <span style=\"color: #c4c4c4; text-decoration-color: #c4c4c4\">1.2</span>       │\n",
       "│  <span style=\"font-weight: bold\">allen_mouse_50um</span>                      <span style=\"color: #008000; text-decoration-color: #008000\">✔</span>          <span style=\"color: #008000; text-decoration-color: #008000\">✔</span>          <span style=\"color: #c4c4c4; text-decoration-color: #c4c4c4\">1.2</span>           <span style=\"color: #c4c4c4; text-decoration-color: #c4c4c4\">1.2</span>       │\n",
       "│  <span style=\"font-weight: bold\">princeton_mouse_20um</span>                  <span style=\"color: #008000; text-decoration-color: #008000\">✔</span>          <span style=\"color: #008000; text-decoration-color: #008000\">✔</span>          <span style=\"color: #c4c4c4; text-decoration-color: #c4c4c4\">1.1</span>           <span style=\"color: #c4c4c4; text-decoration-color: #c4c4c4\">1.1</span>       │\n",
       "│  <span style=\"font-weight: bold\">whs_sd_rat_39um</span>                       <span style=\"color: #008000; text-decoration-color: #008000\">✔</span>          <span style=\"color: #008000; text-decoration-color: #008000\">✔</span>          <span style=\"color: #c4c4c4; text-decoration-color: #c4c4c4\">1.1</span>           <span style=\"color: #c4c4c4; text-decoration-color: #c4c4c4\">1.1</span>       │\n",
       "│  <span style=\"font-weight: bold\">example_mouse_100um</span>                                                       <span style=\"color: #c4c4c4; text-decoration-color: #c4c4c4\">1.2</span>       │\n",
       "│  <span style=\"font-weight: bold\">mpin_zfish_1um</span>                                                            <span style=\"color: #c4c4c4; text-decoration-color: #c4c4c4\">1.0</span>       │\n",
       "│  <span style=\"font-weight: bold\">allen_human_500um</span>                                                         <span style=\"color: #c4c4c4; text-decoration-color: #c4c4c4\">1.0</span>       │\n",
       "│  <span style=\"font-weight: bold\">kim_mouse_10um</span>                                                            <span style=\"color: #c4c4c4; text-decoration-color: #c4c4c4\">1.1</span>       │\n",
       "│  <span style=\"font-weight: bold\">kim_mouse_25um</span>                                                            <span style=\"color: #c4c4c4; text-decoration-color: #c4c4c4\">1.1</span>       │\n",
       "│  <span style=\"font-weight: bold\">kim_mouse_50um</span>                                                            <span style=\"color: #c4c4c4; text-decoration-color: #c4c4c4\">1.1</span>       │\n",
       "│  <span style=\"font-weight: bold\">kim_mouse_100um</span>                                                           <span style=\"color: #c4c4c4; text-decoration-color: #c4c4c4\">1.1</span>       │\n",
       "│  <span style=\"font-weight: bold\">osten_mouse_10um</span>                                                          <span style=\"color: #c4c4c4; text-decoration-color: #c4c4c4\">1.1</span>       │\n",
       "│  <span style=\"font-weight: bold\">osten_mouse_25um</span>                                                          <span style=\"color: #c4c4c4; text-decoration-color: #c4c4c4\">1.1</span>       │\n",
       "│  <span style=\"font-weight: bold\">osten_mouse_50um</span>                                                          <span style=\"color: #c4c4c4; text-decoration-color: #c4c4c4\">1.1</span>       │\n",
       "│  <span style=\"font-weight: bold\">osten_mouse_100um</span>                                                         <span style=\"color: #c4c4c4; text-decoration-color: #c4c4c4\">1.1</span>       │\n",
       "│  <span style=\"font-weight: bold\">allen_cord_20um</span>                                                           <span style=\"color: #c4c4c4; text-decoration-color: #c4c4c4\">1.0</span>       │\n",
       "│  <span style=\"font-weight: bold\">azba_zfish_4um</span>                                                            <span style=\"color: #c4c4c4; text-decoration-color: #c4c4c4\">1.2</span>       │\n",
       "│  <span style=\"font-weight: bold\">perens_lsfm_mouse_20um</span>                                                    <span style=\"color: #c4c4c4; text-decoration-color: #c4c4c4\">1.2</span>       │\n",
       "│  <span style=\"font-weight: bold\">admba_3d_e11_5_mouse_16um</span>                                                 <span style=\"color: #c4c4c4; text-decoration-color: #c4c4c4\">1.0</span>       │\n",
       "│  <span style=\"font-weight: bold\">admba_3d_e13_5_mouse_16um</span>                                                 <span style=\"color: #c4c4c4; text-decoration-color: #c4c4c4\">1.0</span>       │\n",
       "│  <span style=\"font-weight: bold\">admba_3d_e15_5_mouse_16um</span>                                                 <span style=\"color: #c4c4c4; text-decoration-color: #c4c4c4\">1.0</span>       │\n",
       "│  <span style=\"font-weight: bold\">admba_3d_e18_5_mouse_16um</span>                                                 <span style=\"color: #c4c4c4; text-decoration-color: #c4c4c4\">1.0</span>       │\n",
       "│  <span style=\"font-weight: bold\">admba_3d_p4_mouse_16.752um</span>                                                <span style=\"color: #c4c4c4; text-decoration-color: #c4c4c4\">1.0</span>       │\n",
       "│  <span style=\"font-weight: bold\">admba_3d_p14_mouse_16.752um</span>                                               <span style=\"color: #c4c4c4; text-decoration-color: #c4c4c4\">1.0</span>       │\n",
       "│  <span style=\"font-weight: bold\">admba_3d_p28_mouse_16.752um</span>                                               <span style=\"color: #c4c4c4; text-decoration-color: #c4c4c4\">1.0</span>       │\n",
       "│  <span style=\"font-weight: bold\">admba_3d_p56_mouse_25um</span>                                                   <span style=\"color: #c4c4c4; text-decoration-color: #c4c4c4\">1.0</span>       │\n",
       "│  <span style=\"font-weight: bold\">kim_dev_mouse_stp_10um</span>                                                    <span style=\"color: #c4c4c4; text-decoration-color: #c4c4c4\">1.2</span>       │\n",
       "│  <span style=\"font-weight: bold\">kim_dev_mouse_idisco_10um</span>                                                 <span style=\"color: #c4c4c4; text-decoration-color: #c4c4c4\">1.2</span>       │\n",
       "│  <span style=\"font-weight: bold\">kim_dev_mouse_mri_a0_10um</span>                                                 <span style=\"color: #c4c4c4; text-decoration-color: #c4c4c4\">1.2</span>       │\n",
       "│  <span style=\"font-weight: bold\">kim_dev_mouse_mri_adc_10um</span>                                                <span style=\"color: #c4c4c4; text-decoration-color: #c4c4c4\">1.2</span>       │\n",
       "│  <span style=\"font-weight: bold\">kim_dev_mouse_mri_dwi_10um</span>                                                <span style=\"color: #c4c4c4; text-decoration-color: #c4c4c4\">1.2</span>       │\n",
       "│  <span style=\"font-weight: bold\">kim_dev_mouse_mri_fa_10um</span>                                                 <span style=\"color: #c4c4c4; text-decoration-color: #c4c4c4\">1.2</span>       │\n",
       "│  <span style=\"font-weight: bold\">kim_dev_mouse_mri_mtr_10um</span>                                                <span style=\"color: #c4c4c4; text-decoration-color: #c4c4c4\">1.2</span>       │\n",
       "│  <span style=\"font-weight: bold\">kim_dev_mouse_mri_t2_10um</span>                                                 <span style=\"color: #c4c4c4; text-decoration-color: #c4c4c4\">1.2</span>       │\n",
       "╰──────────────────────────────────────────────────────────────────────────────────────╯\n",
       "</pre>\n"
      ],
      "text/plain": [
       "╭───────────────────────────────── Brainglobe Atlases ─────────────────────────────────╮\n",
       "│ \u001b[1;32m                                  \u001b[0m\u001b[1;32m            \u001b[0m\u001b[1;32m         \u001b[0m\u001b[1;32m               \u001b[0m\u001b[1;32m \u001b[0m\u001b[1;32m   Latest   \u001b[0m\u001b[1;32m \u001b[0m │\n",
       "│ \u001b[1;32m \u001b[0m\u001b[1;32mName                            \u001b[0m\u001b[1;32m \u001b[0m\u001b[1;32m \u001b[0m\u001b[1;32mDownloaded\u001b[0m\u001b[1;32m \u001b[0m\u001b[1;32m \u001b[0m\u001b[1;32mUpdated\u001b[0m\u001b[1;32m \u001b[0m\u001b[1;32m \u001b[0m\u001b[1;32mLocal version\u001b[0m\u001b[1;32m \u001b[0m\u001b[1;32m \u001b[0m\u001b[1;32m  version   \u001b[0m\u001b[1;32m \u001b[0m │\n",
       "│  \u001b[1mallen_mouse_100um\u001b[0m                     \u001b[32m✔\u001b[0m          \u001b[32m✔\u001b[0m          \u001b[38;2;196;196;196m1.2\u001b[0m           \u001b[38;2;196;196;196m1.2\u001b[0m       │\n",
       "│  \u001b[1mallen_mouse_10um\u001b[0m                      \u001b[32m✔\u001b[0m          \u001b[32m✔\u001b[0m          \u001b[38;2;196;196;196m1.2\u001b[0m           \u001b[38;2;196;196;196m1.2\u001b[0m       │\n",
       "│  \u001b[1mallen_mouse_25um\u001b[0m                      \u001b[32m✔\u001b[0m          \u001b[32m✔\u001b[0m          \u001b[38;2;196;196;196m1.2\u001b[0m           \u001b[38;2;196;196;196m1.2\u001b[0m       │\n",
       "│  \u001b[1mallen_mouse_50um\u001b[0m                      \u001b[32m✔\u001b[0m          \u001b[32m✔\u001b[0m          \u001b[38;2;196;196;196m1.2\u001b[0m           \u001b[38;2;196;196;196m1.2\u001b[0m       │\n",
       "│  \u001b[1mprinceton_mouse_20um\u001b[0m                  \u001b[32m✔\u001b[0m          \u001b[32m✔\u001b[0m          \u001b[38;2;196;196;196m1.1\u001b[0m           \u001b[38;2;196;196;196m1.1\u001b[0m       │\n",
       "│  \u001b[1mwhs_sd_rat_39um\u001b[0m                       \u001b[32m✔\u001b[0m          \u001b[32m✔\u001b[0m          \u001b[38;2;196;196;196m1.1\u001b[0m           \u001b[38;2;196;196;196m1.1\u001b[0m       │\n",
       "│  \u001b[1mexample_mouse_100um\u001b[0m                                                       \u001b[38;2;196;196;196m1.2\u001b[0m       │\n",
       "│  \u001b[1mmpin_zfish_1um\u001b[0m                                                            \u001b[38;2;196;196;196m1.0\u001b[0m       │\n",
       "│  \u001b[1mallen_human_500um\u001b[0m                                                         \u001b[38;2;196;196;196m1.0\u001b[0m       │\n",
       "│  \u001b[1mkim_mouse_10um\u001b[0m                                                            \u001b[38;2;196;196;196m1.1\u001b[0m       │\n",
       "│  \u001b[1mkim_mouse_25um\u001b[0m                                                            \u001b[38;2;196;196;196m1.1\u001b[0m       │\n",
       "│  \u001b[1mkim_mouse_50um\u001b[0m                                                            \u001b[38;2;196;196;196m1.1\u001b[0m       │\n",
       "│  \u001b[1mkim_mouse_100um\u001b[0m                                                           \u001b[38;2;196;196;196m1.1\u001b[0m       │\n",
       "│  \u001b[1mosten_mouse_10um\u001b[0m                                                          \u001b[38;2;196;196;196m1.1\u001b[0m       │\n",
       "│  \u001b[1mosten_mouse_25um\u001b[0m                                                          \u001b[38;2;196;196;196m1.1\u001b[0m       │\n",
       "│  \u001b[1mosten_mouse_50um\u001b[0m                                                          \u001b[38;2;196;196;196m1.1\u001b[0m       │\n",
       "│  \u001b[1mosten_mouse_100um\u001b[0m                                                         \u001b[38;2;196;196;196m1.1\u001b[0m       │\n",
       "│  \u001b[1mallen_cord_20um\u001b[0m                                                           \u001b[38;2;196;196;196m1.0\u001b[0m       │\n",
       "│  \u001b[1mazba_zfish_4um\u001b[0m                                                            \u001b[38;2;196;196;196m1.2\u001b[0m       │\n",
       "│  \u001b[1mperens_lsfm_mouse_20um\u001b[0m                                                    \u001b[38;2;196;196;196m1.2\u001b[0m       │\n",
       "│  \u001b[1madmba_3d_e11_5_mouse_16um\u001b[0m                                                 \u001b[38;2;196;196;196m1.0\u001b[0m       │\n",
       "│  \u001b[1madmba_3d_e13_5_mouse_16um\u001b[0m                                                 \u001b[38;2;196;196;196m1.0\u001b[0m       │\n",
       "│  \u001b[1madmba_3d_e15_5_mouse_16um\u001b[0m                                                 \u001b[38;2;196;196;196m1.0\u001b[0m       │\n",
       "│  \u001b[1madmba_3d_e18_5_mouse_16um\u001b[0m                                                 \u001b[38;2;196;196;196m1.0\u001b[0m       │\n",
       "│  \u001b[1madmba_3d_p4_mouse_16.752um\u001b[0m                                                \u001b[38;2;196;196;196m1.0\u001b[0m       │\n",
       "│  \u001b[1madmba_3d_p14_mouse_16.752um\u001b[0m                                               \u001b[38;2;196;196;196m1.0\u001b[0m       │\n",
       "│  \u001b[1madmba_3d_p28_mouse_16.752um\u001b[0m                                               \u001b[38;2;196;196;196m1.0\u001b[0m       │\n",
       "│  \u001b[1madmba_3d_p56_mouse_25um\u001b[0m                                                   \u001b[38;2;196;196;196m1.0\u001b[0m       │\n",
       "│  \u001b[1mkim_dev_mouse_stp_10um\u001b[0m                                                    \u001b[38;2;196;196;196m1.2\u001b[0m       │\n",
       "│  \u001b[1mkim_dev_mouse_idisco_10um\u001b[0m                                                 \u001b[38;2;196;196;196m1.2\u001b[0m       │\n",
       "│  \u001b[1mkim_dev_mouse_mri_a0_10um\u001b[0m                                                 \u001b[38;2;196;196;196m1.2\u001b[0m       │\n",
       "│  \u001b[1mkim_dev_mouse_mri_adc_10um\u001b[0m                                                \u001b[38;2;196;196;196m1.2\u001b[0m       │\n",
       "│  \u001b[1mkim_dev_mouse_mri_dwi_10um\u001b[0m                                                \u001b[38;2;196;196;196m1.2\u001b[0m       │\n",
       "│  \u001b[1mkim_dev_mouse_mri_fa_10um\u001b[0m                                                 \u001b[38;2;196;196;196m1.2\u001b[0m       │\n",
       "│  \u001b[1mkim_dev_mouse_mri_mtr_10um\u001b[0m                                                \u001b[38;2;196;196;196m1.2\u001b[0m       │\n",
       "│  \u001b[1mkim_dev_mouse_mri_t2_10um\u001b[0m                                                 \u001b[38;2;196;196;196m1.2\u001b[0m       │\n",
       "╰──────────────────────────────────────────────────────────────────────────────────────╯\n"
      ]
     },
     "metadata": {},
     "output_type": "display_data"
    }
   ],
   "source": [
    "from brainglobe_atlasapi import show_atlases\n",
    "show_atlases()"
   ]
  },
  {
   "cell_type": "code",
   "execution_count": 3,
   "metadata": {},
   "outputs": [],
   "source": [
    "from brainatlas2unity.src.brainatlas2unity.conversion import *"
   ]
  },
  {
   "cell_type": "markdown",
   "metadata": {},
   "source": [
    "## Run pipeline"
   ]
  },
  {
   "cell_type": "code",
   "execution_count": 4,
   "metadata": {},
   "outputs": [
    {
     "data": {
      "text/html": [
       "<pre style=\"white-space:pre;overflow-x:auto;line-height:normal;font-family:Menlo,'DejaVu Sans Mono',consolas,'Courier New',monospace\"><span style=\"color: #ff00d7; text-decoration-color: #ff00d7\">brainglobe_atlasapi: allen_human_500um not found locally. Downloading...</span>\n",
       "</pre>\n"
      ],
      "text/plain": [
       "\u001b[38;5;200mbrainglobe_atlasapi: allen_human_500um not found locally. Downloading\u001b[0m\u001b[38;5;200m...\u001b[0m\n"
      ]
     },
     "metadata": {},
     "output_type": "display_data"
    },
    {
     "data": {
      "text/html": [
       "<pre style=\"white-space:pre;overflow-x:auto;line-height:normal;font-family:Menlo,'DejaVu Sans Mono',consolas,'Courier New',monospace\">c:\\proj\\VBL\\BrainAtlas\\Pipelines\\ba-venv\\lib\\site-packages\\rich\\live.py:231: UserWarning: install \"ipywidgets\" for \n",
       "Jupyter support\n",
       "  warnings.warn('install \"ipywidgets\" for Jupyter support')\n",
       "</pre>\n"
      ],
      "text/plain": [
       "c:\\proj\\VBL\\BrainAtlas\\Pipelines\\ba-venv\\lib\\site-packages\\rich\\live.py:231: UserWarning: install \"ipywidgets\" for \n",
       "Jupyter support\n",
       "  warnings.warn('install \"ipywidgets\" for Jupyter support')\n"
      ]
     },
     "metadata": {},
     "output_type": "display_data"
    },
    {
     "data": {
      "text/html": [
       "<pre style=\"white-space:pre;overflow-x:auto;line-height:normal;font-family:Menlo,'DejaVu Sans Mono',consolas,'Courier New',monospace\"></pre>\n"
      ],
      "text/plain": []
     },
     "metadata": {},
     "output_type": "display_data"
    },
    {
     "data": {
      "text/html": [
       "<pre style=\"white-space:pre;overflow-x:auto;line-height:normal;font-family:Menlo,'DejaVu Sans Mono',consolas,'Courier New',monospace\">\n",
       "</pre>\n"
      ],
      "text/plain": [
       "\n"
      ]
     },
     "metadata": {},
     "output_type": "display_data"
    },
    {
     "data": {
      "text/html": [
       "<pre style=\"white-space:pre;overflow-x:auto;line-height:normal;font-family:Menlo,'DejaVu Sans Mono',consolas,'Courier New',monospace\"><span style=\"color: #ff00d7; text-decoration-color: #ff00d7\">brainglobe_atlasapi: azba_zfish_4um not found locally. Downloading...</span>\n",
       "</pre>\n"
      ],
      "text/plain": [
       "\u001b[38;5;200mbrainglobe_atlasapi: azba_zfish_4um not found locally. Downloading\u001b[0m\u001b[38;5;200m...\u001b[0m\n"
      ]
     },
     "metadata": {},
     "output_type": "display_data"
    },
    {
     "data": {
      "text/html": [
       "<pre style=\"white-space:pre;overflow-x:auto;line-height:normal;font-family:Menlo,'DejaVu Sans Mono',consolas,'Courier New',monospace\">c:\\proj\\VBL\\BrainAtlas\\Pipelines\\ba-venv\\lib\\site-packages\\rich\\live.py:231: UserWarning: install \"ipywidgets\" for \n",
       "Jupyter support\n",
       "  warnings.warn('install \"ipywidgets\" for Jupyter support')\n",
       "</pre>\n"
      ],
      "text/plain": [
       "c:\\proj\\VBL\\BrainAtlas\\Pipelines\\ba-venv\\lib\\site-packages\\rich\\live.py:231: UserWarning: install \"ipywidgets\" for \n",
       "Jupyter support\n",
       "  warnings.warn('install \"ipywidgets\" for Jupyter support')\n"
      ]
     },
     "metadata": {},
     "output_type": "display_data"
    }
   ],
   "source": [
    "# RUN\n",
    "data_path = \"./data\"\n",
    "\n",
    "# downloaded = [\"allen_mouse_25um\",\"allen_mouse_50um\",\"allen_mouse_100um\",\n",
    "#               \"whs_sd_rat_39um\",\n",
    "#               \"princeton_mouse_20um\",\n",
    "#               \"allen_human_500um\",\n",
    "#               \"azba_zfish_4um\"]\n",
    "# apply_smoothing = [False, False, False,\n",
    "#                    True,\n",
    "#                    True,\n",
    "#                    False,\n",
    "#                    False]\n",
    "# fix_normals = [False, False, False,\n",
    "#                True,\n",
    "#                True,\n",
    "#                True,\n",
    "#                True]\n",
    "\n",
    "downloaded = [\n",
    "              \"allen_human_500um\",\n",
    "              \"azba_zfish_4um\"]\n",
    "apply_smoothing = [\n",
    "                   False,\n",
    "                   False]\n",
    "                   \n",
    "fix_normals = [\n",
    "               True,\n",
    "               True]\n",
    "\n",
    "\n",
    "atlases = []\n",
    "\n",
    "for i, atlas_name in enumerate(downloaded):\n",
    "    atlas = BrainGlobeAtlas(atlas_name, check_latest=True)\n",
    "    atlases.append(atlas)\n",
    "\n",
    "    if not os.path.isdir(os.path.join(data_path,atlas_name)):\n",
    "        os.mkdir(os.path.join(data_path,atlas_name))\n",
    "        \n",
    "    intermediate_meta(atlas, atlas_name, data_path)\n",
    "    intermediate_structures(atlas, atlas_name, data_path)\n",
    "    intermediate_ref_image(atlas, atlas_name, data_path)\n",
    "    intermediate_annot_image(atlas, atlas_name, data_path)\n",
    "    intermediate_mesh_centers(atlas, atlas_name, data_path)\n",
    "\n",
    "    # copy files\n",
    "    copy_mesh_files(atlas, atlas_name, data_path)\n",
    "\n",
    "    # # mesh handling\n",
    "    cleanup_folder(atlas_name, data_path)\n",
    "    # # apply_bg_translation(atlas_name)\n",
    "    apply_blender_repairs(atlas_name, data_path, normals=fix_normals[i], smoothing=apply_smoothing[i])\n",
    "    intermediate_mesh_files(atlas, atlas_name, data_path)"
   ]
  },
  {
   "cell_type": "markdown",
   "metadata": {},
   "source": [
    "### Replace Waxholm colors"
   ]
  },
  {
   "cell_type": "code",
   "execution_count": 6,
   "metadata": {},
   "outputs": [],
   "source": [
    "# replace colors in whs_sd_rat_39um with better options\n",
    "\n",
    "with open('./data/whs_sd_rat_39um/structures.json', 'r') as f: rat_structures = json.load(f)\n",
    "with open('./data/allen_mouse_25um/structures.json', 'r') as f: mouse_structures = json.load(f)\n",
    "mouse = {}\n",
    "\n",
    "for area in mouse_structures:\n",
    "    mouse[area[\"acronym\"]] = area\n",
    "\n",
    "rewrite_df = pd.read_csv('waxholm_acronyms_CCF.csv')\n",
    "\n",
    "def update_json(json_data, acronym, rgb_color):\n",
    "    for i, area in enumerate(json_data):\n",
    "        if area[\"acronym\"]==acronym:\n",
    "            area[\"rgb_triplet\"] = rgb_color\n",
    "            json_data[i] = area\n",
    "            return json_data\n",
    "        \n",
    "cur_rgb_color = [255, 255, 255]\n",
    "# go through each area in the dataframe, check if we have a hex code already and apply it, otherwise keep track of the last mouse region and use that color\n",
    "for i, row in rewrite_df.iterrows():\n",
    "    ccf_equiv = row[\"ccf equivalent\"]\n",
    "\n",
    "    if ccf_equiv == \"#808080\":\n",
    "        rat_structures = update_json(rat_structures, row[\"acronym\"], [128, 128, 128])\n",
    "        continue\n",
    "    if ccf_equiv == \"#000000\":\n",
    "        rat_structures = update_json(rat_structures, row[\"acronym\"], [0, 0 , 0])\n",
    "        continue\n",
    "    \n",
    "    if pd.isna(ccf_equiv):\n",
    "        # if NaN, skip\n",
    "        rat_structures = update_json(rat_structures, row[\"acronym\"], cur_rgb_color)\n",
    "    else:    \n",
    "        # otherwise, save the current value\n",
    "        cur_rgb_color = mouse[ccf_equiv]['rgb_triplet']\n",
    "        rat_structures = update_json(rat_structures, row[\"acronym\"], cur_rgb_color)\n",
    "\n",
    "with open('./data/whs_sd_rat_39um/structures.json', 'w') as f: json.dump(rat_structures, f)\n"
   ]
  },
  {
   "cell_type": "markdown",
   "metadata": {},
   "source": [
    "### Waxholm 79\n",
    "Downsample the waxholm data to 79um instead of 39um"
   ]
  },
  {
   "cell_type": "code",
   "execution_count": 7,
   "metadata": {},
   "outputs": [
    {
     "ename": "IndexError",
     "evalue": "list index out of range",
     "output_type": "error",
     "traceback": [
      "\u001b[1;31m---------------------------------------------------------------------------\u001b[0m",
      "\u001b[1;31mIndexError\u001b[0m                                Traceback (most recent call last)",
      "Cell \u001b[1;32mIn[7], line 76\u001b[0m\n\u001b[0;32m     73\u001b[0m bpy\u001b[38;5;241m.\u001b[39mops\u001b[38;5;241m.\u001b[39mwm\u001b[38;5;241m.\u001b[39mobj_import(filepath\u001b[38;5;241m=\u001b[39mobj_path)\n\u001b[0;32m     75\u001b[0m \u001b[38;5;66;03m# Select the imported mesh\u001b[39;00m\n\u001b[1;32m---> 76\u001b[0m bpy\u001b[38;5;241m.\u001b[39mcontext\u001b[38;5;241m.\u001b[39mview_layer\u001b[38;5;241m.\u001b[39mobjects\u001b[38;5;241m.\u001b[39mactive \u001b[38;5;241m=\u001b[39m \u001b[43mbpy\u001b[49m\u001b[38;5;241;43m.\u001b[39;49m\u001b[43mcontext\u001b[49m\u001b[38;5;241;43m.\u001b[39;49m\u001b[43mselected_objects\u001b[49m\u001b[43m[\u001b[49m\u001b[38;5;241;43m0\u001b[39;49m\u001b[43m]\u001b[49m\n\u001b[0;32m     77\u001b[0m bpy\u001b[38;5;241m.\u001b[39mops\u001b[38;5;241m.\u001b[39mobject\u001b[38;5;241m.\u001b[39mmode_set(mode\u001b[38;5;241m=\u001b[39m\u001b[38;5;124m'\u001b[39m\u001b[38;5;124mOBJECT\u001b[39m\u001b[38;5;124m'\u001b[39m)  \u001b[38;5;66;03m# Switch to Object mode\u001b[39;00m\n\u001b[0;32m     79\u001b[0m \u001b[38;5;66;03m# Add Decimate modifier to the active object\u001b[39;00m\n",
      "\u001b[1;31mIndexError\u001b[0m: list index out of range"
     ]
    }
   ],
   "source": [
    "import shutil\n",
    "\n",
    "source_folder = \"./data/whs_sd_rat_39um/\"\n",
    "destination_folder = \"./data/whs_sd_rat_78um/\"\n",
    "\n",
    "shutil.copytree(source_folder, destination_folder)\n",
    "\n",
    "path78 = './data/whs_sd_rat_78um/'\n",
    "\n",
    "import json\n",
    "# Load the metadata and change the dimensions\n",
    "fname = f'{path78}/meta.json'\n",
    "with open(fname, 'r') as f:\n",
    "    metadata = json.load(f)\n",
    "    f.close()\n",
    "\n",
    "metadata['resolution'] = [78.0, 78.0, 78.0]\n",
    "metadata['shape'] = [512, 256, 256]\n",
    "\n",
    "json.dump(metadata, open(fname, 'w'))\n",
    "\n",
    "# Load the annotation and reference volumes and downsample\n",
    "import os\n",
    "import numpy as np\n",
    "\n",
    "annotation_file = os.path.join(path78,\"annotation.bytes\")\n",
    "\n",
    "data_type = np.uintc  # Replace with the actual data type used when saving\n",
    "shape = (1024, 512, 512)      # Replace with the actual shape of the array\n",
    "\n",
    "# Load the data\n",
    "loaded_data = np.fromfile(annotation_file, dtype=data_type)\n",
    "loaded_data = loaded_data.reshape(shape)  # Reshape the loaded data to its original shape\n",
    "\n",
    "downsampled_array = loaded_data[::2, ::2, ::2]\n",
    "\n",
    "downsampled_array.flatten().tofile(annotation_file)\n",
    "\n",
    "\n",
    "reference_file = os.path.join(path78,\"reference.bytes\")\n",
    "\n",
    "data_type = np.float32  # Replace with the actual data type used when saving\n",
    "shape = (1024, 512, 512)      # Replace with the actual shape of the array\n",
    "\n",
    "# Load the data\n",
    "loaded_data = np.fromfile(reference_file, dtype=data_type)\n",
    "loaded_data = loaded_data.reshape(shape)  # Reshape the loaded data to its original shape\n",
    "\n",
    "downsampled_array = loaded_data[::2, ::2, ::2]\n",
    "\n",
    "downsampled_array.flatten().tofile(reference_file)\n",
    "\n",
    "# Load all the mesh files and decimate them to 10%\n",
    "\n",
    "import bpy\n",
    "import os\n",
    "\n",
    "# Set the path to your folder containing .obj files\n",
    "folder_path = \"C:\\proj\\VBL\\BrainAtlas\\Pipelines\\data\\whs_sd_rat_78um\\meshes\"\n",
    "\n",
    "# Set the decimation ratio\n",
    "decimate_ratio = 0.2\n",
    "\n",
    "# Get a list of all .obj files in the folder\n",
    "obj_files = [f for f in os.listdir(folder_path) if f.endswith(\".obj\")]\n",
    "\n",
    "# Loop through each .obj file\n",
    "for obj_file in obj_files:\n",
    "    # Create a full path to the .obj file\n",
    "    obj_path = os.path.join(folder_path, obj_file)\n",
    "\n",
    "    # Load the .obj file into Blender\n",
    "    bpy.ops.wm.obj_import(filepath=obj_path)\n",
    "\n",
    "    # Select the imported mesh\n",
    "    bpy.context.view_layer.objects.active = bpy.context.selected_objects[0]\n",
    "    bpy.ops.object.mode_set(mode='OBJECT')  # Switch to Object mode\n",
    "    \n",
    "    # Add Decimate modifier to the active object\n",
    "    bpy.ops.object.modifier_add(type='DECIMATE')\n",
    "\n",
    "    # Set the decimate ratio\n",
    "    decimate_ratio = 0.5  # Change this value as needed\n",
    "    bpy.context.object.modifiers[\"Decimate\"].ratio = decimate_ratio\n",
    "\n",
    "    # Apply the modifier\n",
    "    bpy.ops.object.modifier_apply(modifier=\"Decimate\")\n",
    "\n",
    "    # Save the modified mesh\n",
    "    bpy.ops.wm.obj_export(filepath=obj_path, export_selected_objects =True, export_normals =True, export_materials =False, apply_modifiers = True)\n",
    "\n",
    "    # Remove the mesh from the scene\n",
    "    bpy.ops.object.select_all(action='SELECT')\n",
    "    bpy.ops.object.delete()\n",
    "\n",
    "print(\"Decimation complete.\")"
   ]
  },
  {
   "cell_type": "code",
   "execution_count": null,
   "metadata": {},
   "outputs": [],
   "source": []
  }
 ],
 "metadata": {
  "kernelspec": {
   "display_name": "Python 3",
   "language": "python",
   "name": "python3"
  },
  "language_info": {
   "codemirror_mode": {
    "name": "ipython",
    "version": 3
   },
   "file_extension": ".py",
   "mimetype": "text/x-python",
   "name": "python",
   "nbconvert_exporter": "python",
   "pygments_lexer": "ipython3",
   "version": "3.10.0"
  },
  "orig_nbformat": 4,
  "vscode": {
   "interpreter": {
    "hash": "369f2c481f4da34e4445cda3fffd2e751bd1c4d706f27375911949ba6bb62e1c"
   }
  }
 },
 "nbformat": 4,
 "nbformat_minor": 2
}
